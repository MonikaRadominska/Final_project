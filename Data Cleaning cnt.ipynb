{
 "cells": [
  {
   "cell_type": "markdown",
   "id": "522a5011",
   "metadata": {},
   "source": [
    "### Data Cleaning continued "
   ]
  },
  {
   "cell_type": "code",
   "execution_count": 2,
   "id": "e9f16e04",
   "metadata": {},
   "outputs": [],
   "source": [
    "# Continuing in a new notebook with saved df after Wed-Thu's work"
   ]
  },
  {
   "cell_type": "markdown",
   "id": "1152edef",
   "metadata": {},
   "source": [
    "### Importing libraries"
   ]
  },
  {
   "cell_type": "code",
   "execution_count": 16,
   "id": "40df9676",
   "metadata": {},
   "outputs": [],
   "source": [
    "import pandas as pd"
   ]
  },
  {
   "cell_type": "markdown",
   "id": "81be6554",
   "metadata": {},
   "source": [
    "### Importing data "
   ]
  },
  {
   "cell_type": "code",
   "execution_count": 167,
   "id": "d45d5abd",
   "metadata": {},
   "outputs": [],
   "source": [
    "iucn_df = pd.read_csv('data/iucn_df_day2.csv')"
   ]
  },
  {
   "cell_type": "code",
   "execution_count": 168,
   "id": "95e1b6df",
   "metadata": {},
   "outputs": [],
   "source": [
    "iucn_df = iucn_df.drop(['Unnamed: 0'], axis = 1)\n",
    "#dropping the unnamed axis "
   ]
  },
  {
   "cell_type": "code",
   "execution_count": 171,
   "id": "273aeb6d",
   "metadata": {
    "scrolled": true
   },
   "outputs": [
    {
     "data": {
      "text/html": [
       "<div>\n",
       "<style scoped>\n",
       "    .dataframe tbody tr th:only-of-type {\n",
       "        vertical-align: middle;\n",
       "    }\n",
       "\n",
       "    .dataframe tbody tr th {\n",
       "        vertical-align: top;\n",
       "    }\n",
       "\n",
       "    .dataframe thead th {\n",
       "        text-align: right;\n",
       "    }\n",
       "</style>\n",
       "<table border=\"1\" class=\"dataframe\">\n",
       "  <thead>\n",
       "    <tr style=\"text-align: right;\">\n",
       "      <th></th>\n",
       "      <th>scientific_name</th>\n",
       "      <th>red_list_category</th>\n",
       "      <th>year_published</th>\n",
       "      <th>assessment_date</th>\n",
       "      <th>population_trend</th>\n",
       "      <th>systems</th>\n",
       "      <th>region</th>\n",
       "      <th>habitat</th>\n",
       "      <th>phylum_name</th>\n",
       "      <th>class_name</th>\n",
       "    </tr>\n",
       "  </thead>\n",
       "  <tbody>\n",
       "    <tr>\n",
       "      <th>0</th>\n",
       "      <td>Hexanchus griseus</td>\n",
       "      <td>Near Threatened</td>\n",
       "      <td>2020</td>\n",
       "      <td>2019</td>\n",
       "      <td>Decreasing</td>\n",
       "      <td>Marine</td>\n",
       "      <td>NaN</td>\n",
       "      <td>Global</td>\n",
       "      <td>Vertebrates</td>\n",
       "      <td>Cartilaginous fishes</td>\n",
       "    </tr>\n",
       "    <tr>\n",
       "      <th>1</th>\n",
       "      <td>Heosemys annandalii</td>\n",
       "      <td>Critically Endangered</td>\n",
       "      <td>2021</td>\n",
       "      <td>2018</td>\n",
       "      <td>Decreasing</td>\n",
       "      <td>Terrestial &amp; Freshwater</td>\n",
       "      <td>Indomalayan</td>\n",
       "      <td>Global</td>\n",
       "      <td>Vertebrates</td>\n",
       "      <td>Reptiles</td>\n",
       "    </tr>\n",
       "    <tr>\n",
       "      <th>2</th>\n",
       "      <td>Hubbsina turneri</td>\n",
       "      <td>Critically Endangered</td>\n",
       "      <td>2019</td>\n",
       "      <td>2018</td>\n",
       "      <td>Decreasing</td>\n",
       "      <td>Freshwater</td>\n",
       "      <td>Neotropical</td>\n",
       "      <td>Global</td>\n",
       "      <td>Vertebrates</td>\n",
       "      <td>Ray-finned fishes</td>\n",
       "    </tr>\n",
       "    <tr>\n",
       "      <th>3</th>\n",
       "      <td>Hungerfordia pelewensis</td>\n",
       "      <td>Endangered</td>\n",
       "      <td>2012</td>\n",
       "      <td>2011</td>\n",
       "      <td>Unknown</td>\n",
       "      <td>Terrestrial</td>\n",
       "      <td>Oceanian</td>\n",
       "      <td>Global</td>\n",
       "      <td>Mollusks</td>\n",
       "      <td>Snails &amp; slugs</td>\n",
       "    </tr>\n",
       "    <tr>\n",
       "      <th>4</th>\n",
       "      <td>Ictalurus mexicanus</td>\n",
       "      <td>Vulnerable</td>\n",
       "      <td>2019</td>\n",
       "      <td>2018</td>\n",
       "      <td>Unknown</td>\n",
       "      <td>Freshwater</td>\n",
       "      <td>Neotropical</td>\n",
       "      <td>Global</td>\n",
       "      <td>Vertebrates</td>\n",
       "      <td>Ray-finned fishes</td>\n",
       "    </tr>\n",
       "    <tr>\n",
       "      <th>...</th>\n",
       "      <td>...</td>\n",
       "      <td>...</td>\n",
       "      <td>...</td>\n",
       "      <td>...</td>\n",
       "      <td>...</td>\n",
       "      <td>...</td>\n",
       "      <td>...</td>\n",
       "      <td>...</td>\n",
       "      <td>...</td>\n",
       "      <td>...</td>\n",
       "    </tr>\n",
       "    <tr>\n",
       "      <th>19833</th>\n",
       "      <td>Cercopithecus nictitans</td>\n",
       "      <td>Near Threatened</td>\n",
       "      <td>2020</td>\n",
       "      <td>2016</td>\n",
       "      <td>Decreasing</td>\n",
       "      <td>Terrestrial</td>\n",
       "      <td>Afrotropical</td>\n",
       "      <td>Global</td>\n",
       "      <td>Vertebrates</td>\n",
       "      <td>Mammals</td>\n",
       "    </tr>\n",
       "    <tr>\n",
       "      <th>19834</th>\n",
       "      <td>Sapajus cay</td>\n",
       "      <td>Vulnerable</td>\n",
       "      <td>2022</td>\n",
       "      <td>2022</td>\n",
       "      <td>Decreasing</td>\n",
       "      <td>Terrestrial</td>\n",
       "      <td>Neotropical</td>\n",
       "      <td>Global</td>\n",
       "      <td>Vertebrates</td>\n",
       "      <td>Mammals</td>\n",
       "    </tr>\n",
       "    <tr>\n",
       "      <th>19835</th>\n",
       "      <td>Plecturocebus vieirai</td>\n",
       "      <td>Critically Endangered</td>\n",
       "      <td>2022</td>\n",
       "      <td>2022</td>\n",
       "      <td>Decreasing</td>\n",
       "      <td>Terrestrial</td>\n",
       "      <td>Neotropical</td>\n",
       "      <td>Global</td>\n",
       "      <td>Vertebrates</td>\n",
       "      <td>Mammals</td>\n",
       "    </tr>\n",
       "    <tr>\n",
       "      <th>19836</th>\n",
       "      <td>Mico schneideri</td>\n",
       "      <td>Endangered</td>\n",
       "      <td>2022</td>\n",
       "      <td>2022</td>\n",
       "      <td>Decreasing</td>\n",
       "      <td>Terrestrial</td>\n",
       "      <td>Neotropical</td>\n",
       "      <td>Global</td>\n",
       "      <td>Vertebrates</td>\n",
       "      <td>Mammals</td>\n",
       "    </tr>\n",
       "    <tr>\n",
       "      <th>19837</th>\n",
       "      <td>Loxodonta africana</td>\n",
       "      <td>Endangered</td>\n",
       "      <td>2022</td>\n",
       "      <td>2020</td>\n",
       "      <td>Decreasing</td>\n",
       "      <td>Terrestrial</td>\n",
       "      <td>Afrotropical</td>\n",
       "      <td>Global</td>\n",
       "      <td>Vertebrates</td>\n",
       "      <td>Mammals</td>\n",
       "    </tr>\n",
       "  </tbody>\n",
       "</table>\n",
       "<p>19838 rows × 10 columns</p>\n",
       "</div>"
      ],
      "text/plain": [
       "               scientific_name      red_list_category  year_published  \\\n",
       "0            Hexanchus griseus        Near Threatened            2020   \n",
       "1          Heosemys annandalii  Critically Endangered            2021   \n",
       "2             Hubbsina turneri  Critically Endangered            2019   \n",
       "3      Hungerfordia pelewensis             Endangered            2012   \n",
       "4          Ictalurus mexicanus             Vulnerable            2019   \n",
       "...                        ...                    ...             ...   \n",
       "19833  Cercopithecus nictitans        Near Threatened            2020   \n",
       "19834              Sapajus cay             Vulnerable            2022   \n",
       "19835    Plecturocebus vieirai  Critically Endangered            2022   \n",
       "19836          Mico schneideri             Endangered            2022   \n",
       "19837       Loxodonta africana             Endangered            2022   \n",
       "\n",
       "      assessment_date population_trend                   systems  \\\n",
       "0                2019       Decreasing                    Marine   \n",
       "1                2018       Decreasing  Terrestial & Freshwater    \n",
       "2                2018       Decreasing                Freshwater   \n",
       "3                2011          Unknown               Terrestrial   \n",
       "4                2018          Unknown                Freshwater   \n",
       "...               ...              ...                       ...   \n",
       "19833            2016       Decreasing               Terrestrial   \n",
       "19834            2022       Decreasing               Terrestrial   \n",
       "19835            2022       Decreasing               Terrestrial   \n",
       "19836            2022       Decreasing               Terrestrial   \n",
       "19837            2020       Decreasing               Terrestrial   \n",
       "\n",
       "             region habitat  phylum_name            class_name  \n",
       "0               NaN  Global  Vertebrates  Cartilaginous fishes  \n",
       "1       Indomalayan  Global  Vertebrates              Reptiles  \n",
       "2       Neotropical  Global  Vertebrates     Ray-finned fishes  \n",
       "3          Oceanian  Global     Mollusks        Snails & slugs  \n",
       "4       Neotropical  Global  Vertebrates     Ray-finned fishes  \n",
       "...             ...     ...          ...                   ...  \n",
       "19833  Afrotropical  Global  Vertebrates               Mammals  \n",
       "19834   Neotropical  Global  Vertebrates               Mammals  \n",
       "19835   Neotropical  Global  Vertebrates               Mammals  \n",
       "19836   Neotropical  Global  Vertebrates               Mammals  \n",
       "19837  Afrotropical  Global  Vertebrates               Mammals  \n",
       "\n",
       "[19838 rows x 10 columns]"
      ]
     },
     "execution_count": 171,
     "metadata": {},
     "output_type": "execute_result"
    }
   ],
   "source": [
    "iucn_df"
   ]
  },
  {
   "cell_type": "markdown",
   "id": "c9c25d7b",
   "metadata": {},
   "source": [
    "### Cleaning the assessment date "
   ]
  },
  {
   "cell_type": "code",
   "execution_count": 170,
   "id": "e4b9358d",
   "metadata": {},
   "outputs": [],
   "source": [
    "iucn_df['assessment_date'] = iucn_df['assessment_date'].astype(str).str[:4]\n",
    "#code only keeps the first 4 letters in a string and removes the rest"
   ]
  },
  {
   "cell_type": "markdown",
   "id": "605986a8",
   "metadata": {},
   "source": [
    "### Checking for NaN's in columns, cnt"
   ]
  },
  {
   "cell_type": "code",
   "execution_count": 21,
   "id": "ddfb9df3",
   "metadata": {},
   "outputs": [
    {
     "data": {
      "text/plain": [
       "0"
      ]
     },
     "execution_count": 21,
     "metadata": {},
     "output_type": "execute_result"
    }
   ],
   "source": [
    "iucn_df['assessment_date'].isna().sum()"
   ]
  },
  {
   "cell_type": "code",
   "execution_count": 22,
   "id": "eec11793",
   "metadata": {},
   "outputs": [
    {
     "data": {
      "text/plain": [
       "0"
      ]
     },
     "execution_count": 22,
     "metadata": {},
     "output_type": "execute_result"
    }
   ],
   "source": [
    "iucn_df['systems'].isna().sum()"
   ]
  },
  {
   "cell_type": "code",
   "execution_count": 23,
   "id": "a2115de7",
   "metadata": {},
   "outputs": [
    {
     "data": {
      "text/plain": [
       "1452"
      ]
     },
     "execution_count": 23,
     "metadata": {},
     "output_type": "execute_result"
    }
   ],
   "source": [
    "iucn_df['region'].isna().sum()"
   ]
  },
  {
   "cell_type": "code",
   "execution_count": 24,
   "id": "800a419a",
   "metadata": {},
   "outputs": [
    {
     "data": {
      "text/plain": [
       "3"
      ]
     },
     "execution_count": 24,
     "metadata": {},
     "output_type": "execute_result"
    }
   ],
   "source": [
    "iucn_df['habitat'].isna().sum()"
   ]
  },
  {
   "cell_type": "code",
   "execution_count": 25,
   "id": "79c0fd80",
   "metadata": {},
   "outputs": [
    {
     "data": {
      "text/plain": [
       "0"
      ]
     },
     "execution_count": 25,
     "metadata": {},
     "output_type": "execute_result"
    }
   ],
   "source": [
    "iucn_df['phylum_name'].isna().sum()"
   ]
  },
  {
   "cell_type": "code",
   "execution_count": 26,
   "id": "da1a8571",
   "metadata": {
    "scrolled": true
   },
   "outputs": [
    {
     "data": {
      "text/plain": [
       "0"
      ]
     },
     "execution_count": 26,
     "metadata": {},
     "output_type": "execute_result"
    }
   ],
   "source": [
    "iucn_df['class_name'].isna().sum()"
   ]
  },
  {
   "cell_type": "code",
   "execution_count": 27,
   "id": "08b039f7",
   "metadata": {},
   "outputs": [],
   "source": [
    "# checking what the habitat looks like by looking at the nan values \n",
    "filtered_df = iucn_df[iucn_df['habitat'].isna()]"
   ]
  },
  {
   "cell_type": "code",
   "execution_count": 28,
   "id": "6095d647",
   "metadata": {
    "scrolled": false
   },
   "outputs": [
    {
     "data": {
      "text/html": [
       "<div>\n",
       "<style scoped>\n",
       "    .dataframe tbody tr th:only-of-type {\n",
       "        vertical-align: middle;\n",
       "    }\n",
       "\n",
       "    .dataframe tbody tr th {\n",
       "        vertical-align: top;\n",
       "    }\n",
       "\n",
       "    .dataframe thead th {\n",
       "        text-align: right;\n",
       "    }\n",
       "</style>\n",
       "<table border=\"1\" class=\"dataframe\">\n",
       "  <thead>\n",
       "    <tr style=\"text-align: right;\">\n",
       "      <th></th>\n",
       "      <th>scientific_name</th>\n",
       "      <th>red_list_category</th>\n",
       "      <th>year_published</th>\n",
       "      <th>assessment_date</th>\n",
       "      <th>population_trend</th>\n",
       "      <th>systems</th>\n",
       "      <th>region</th>\n",
       "      <th>habitat</th>\n",
       "      <th>phylum_name</th>\n",
       "      <th>class_name</th>\n",
       "    </tr>\n",
       "  </thead>\n",
       "  <tbody>\n",
       "    <tr>\n",
       "      <th>19328</th>\n",
       "      <td>Crocodylus niloticus</td>\n",
       "      <td>Vulnerable</td>\n",
       "      <td>2017</td>\n",
       "      <td>2017</td>\n",
       "      <td>Decreasing</td>\n",
       "      <td>Freshwater &amp; Marine</td>\n",
       "      <td>Afrotropical</td>\n",
       "      <td>NaN</td>\n",
       "      <td>Vertebrates</td>\n",
       "      <td>Reptiles</td>\n",
       "    </tr>\n",
       "    <tr>\n",
       "      <th>19700</th>\n",
       "      <td>Felis silvestris</td>\n",
       "      <td>Endangered</td>\n",
       "      <td>2018</td>\n",
       "      <td>2018</td>\n",
       "      <td>Decreasing</td>\n",
       "      <td>Terrestrial</td>\n",
       "      <td>Afrotropical|Palearctic</td>\n",
       "      <td>NaN</td>\n",
       "      <td>Vertebrates</td>\n",
       "      <td>Mammals</td>\n",
       "    </tr>\n",
       "    <tr>\n",
       "      <th>19814</th>\n",
       "      <td>Bubo milesi</td>\n",
       "      <td>Endangered</td>\n",
       "      <td>2019</td>\n",
       "      <td>2019</td>\n",
       "      <td>Unknown</td>\n",
       "      <td>Terrestrial</td>\n",
       "      <td>Afrotropical</td>\n",
       "      <td>NaN</td>\n",
       "      <td>Vertebrates</td>\n",
       "      <td>Birds</td>\n",
       "    </tr>\n",
       "  </tbody>\n",
       "</table>\n",
       "</div>"
      ],
      "text/plain": [
       "            scientific_name red_list_category  year_published assessment_date  \\\n",
       "19328  Crocodylus niloticus        Vulnerable            2017            2017   \n",
       "19700      Felis silvestris        Endangered            2018            2018   \n",
       "19814           Bubo milesi        Endangered            2019            2019   \n",
       "\n",
       "      population_trend              systems                   region habitat  \\\n",
       "19328       Decreasing  Freshwater & Marine             Afrotropical     NaN   \n",
       "19700       Decreasing          Terrestrial  Afrotropical|Palearctic     NaN   \n",
       "19814          Unknown          Terrestrial             Afrotropical     NaN   \n",
       "\n",
       "       phylum_name class_name  \n",
       "19328  Vertebrates   Reptiles  \n",
       "19700  Vertebrates    Mammals  \n",
       "19814  Vertebrates      Birds  "
      ]
     },
     "execution_count": 28,
     "metadata": {},
     "output_type": "execute_result"
    }
   ],
   "source": [
    "filtered_df"
   ]
  },
  {
   "cell_type": "code",
   "execution_count": 82,
   "id": "2449190f",
   "metadata": {},
   "outputs": [
    {
     "data": {
      "text/plain": [
       "Carcharias taurus         9\n",
       "Anguilla anguilla         9\n",
       "Pseudamnicola conovula    9\n",
       "Afronandus sheljuzhkoi    9\n",
       "Oxynotus centrina         9\n",
       "                         ..\n",
       "Etheostoma nuchale        1\n",
       "Etheostoma nianguae       1\n",
       "Etheostoma moorei         1\n",
       "Etheostoma maculatum      1\n",
       "Loxodonta africana        1\n",
       "Name: scientific_name, Length: 18721, dtype: int64"
      ]
     },
     "execution_count": 82,
     "metadata": {},
     "output_type": "execute_result"
    }
   ],
   "source": [
    "iucn_df['scientific_name'].value_counts()"
   ]
  },
  {
   "cell_type": "code",
   "execution_count": 111,
   "id": "8d2c0053",
   "metadata": {},
   "outputs": [],
   "source": [
    "iucn_df_1 = iucn_df.drop_duplicates(keep='first')"
   ]
  },
  {
   "cell_type": "code",
   "execution_count": 112,
   "id": "e86bc492",
   "metadata": {},
   "outputs": [
    {
     "data": {
      "text/plain": [
       "Carcharias taurus         3\n",
       "Anguilla anguilla         3\n",
       "Pseudamnicola conovula    3\n",
       "Afronandus sheljuzhkoi    3\n",
       "Oxynotus centrina         3\n",
       "                         ..\n",
       "Etheostoma nianguae       1\n",
       "Etheostoma moorei         1\n",
       "Etheostoma maculatum      1\n",
       "Etheostoma fonticola      1\n",
       "Loxodonta africana        1\n",
       "Name: scientific_name, Length: 18721, dtype: int64"
      ]
     },
     "execution_count": 112,
     "metadata": {},
     "output_type": "execute_result"
    }
   ],
   "source": [
    "iucn_df_1['scientific_name'].value_counts()"
   ]
  },
  {
   "cell_type": "code",
   "execution_count": 113,
   "id": "0b8001de",
   "metadata": {},
   "outputs": [],
   "source": [
    "iucn_df_2 = iucn_df_1.drop_duplicates(subset=['scientific_name'], keep=False)"
   ]
  },
  {
   "cell_type": "code",
   "execution_count": 115,
   "id": "851b1595",
   "metadata": {},
   "outputs": [
    {
     "data": {
      "text/plain": [
       "Hexanchus griseus           1\n",
       "Ctenotus kurnbudj           1\n",
       "Treron aromaticus           1\n",
       "Asthenes hudsoni            1\n",
       "Phapitreron maculipectus    1\n",
       "                           ..\n",
       "Tarentola raziana           1\n",
       "Tarentola gigas             1\n",
       "Tarentola boavistensis      1\n",
       "Gastropholis prasina        1\n",
       "Loxodonta africana          1\n",
       "Name: scientific_name, Length: 18454, dtype: int64"
      ]
     },
     "execution_count": 115,
     "metadata": {},
     "output_type": "execute_result"
    }
   ],
   "source": [
    "iucn_df_2['scientific_name'].value_counts()"
   ]
  },
  {
   "cell_type": "code",
   "execution_count": 116,
   "id": "e224ae0d",
   "metadata": {},
   "outputs": [
    {
     "data": {
      "text/html": [
       "<div>\n",
       "<style scoped>\n",
       "    .dataframe tbody tr th:only-of-type {\n",
       "        vertical-align: middle;\n",
       "    }\n",
       "\n",
       "    .dataframe tbody tr th {\n",
       "        vertical-align: top;\n",
       "    }\n",
       "\n",
       "    .dataframe thead th {\n",
       "        text-align: right;\n",
       "    }\n",
       "</style>\n",
       "<table border=\"1\" class=\"dataframe\">\n",
       "  <thead>\n",
       "    <tr style=\"text-align: right;\">\n",
       "      <th></th>\n",
       "      <th>scientific_name</th>\n",
       "      <th>red_list_category</th>\n",
       "      <th>year_published</th>\n",
       "      <th>assessment_date</th>\n",
       "      <th>population_trend</th>\n",
       "      <th>systems</th>\n",
       "      <th>region</th>\n",
       "      <th>habitat</th>\n",
       "      <th>phylum_name</th>\n",
       "      <th>class_name</th>\n",
       "    </tr>\n",
       "  </thead>\n",
       "  <tbody>\n",
       "    <tr>\n",
       "      <th>0</th>\n",
       "      <td>Hexanchus griseus</td>\n",
       "      <td>Near Threatened</td>\n",
       "      <td>2020</td>\n",
       "      <td>2019</td>\n",
       "      <td>Decreasing</td>\n",
       "      <td>Marine</td>\n",
       "      <td>NaN</td>\n",
       "      <td>Global</td>\n",
       "      <td>Vertebrates</td>\n",
       "      <td>Cartilaginous fishes</td>\n",
       "    </tr>\n",
       "    <tr>\n",
       "      <th>1</th>\n",
       "      <td>Heosemys annandalii</td>\n",
       "      <td>Critically Endangered</td>\n",
       "      <td>2021</td>\n",
       "      <td>2018</td>\n",
       "      <td>Decreasing</td>\n",
       "      <td>Terrestial &amp; Freshwater</td>\n",
       "      <td>Indomalayan</td>\n",
       "      <td>Global</td>\n",
       "      <td>Vertebrates</td>\n",
       "      <td>Reptiles</td>\n",
       "    </tr>\n",
       "    <tr>\n",
       "      <th>2</th>\n",
       "      <td>Hubbsina turneri</td>\n",
       "      <td>Critically Endangered</td>\n",
       "      <td>2019</td>\n",
       "      <td>2018</td>\n",
       "      <td>Decreasing</td>\n",
       "      <td>Freshwater</td>\n",
       "      <td>Neotropical</td>\n",
       "      <td>Global</td>\n",
       "      <td>Vertebrates</td>\n",
       "      <td>Ray-finned fishes</td>\n",
       "    </tr>\n",
       "    <tr>\n",
       "      <th>3</th>\n",
       "      <td>Hungerfordia pelewensis</td>\n",
       "      <td>Endangered</td>\n",
       "      <td>2012</td>\n",
       "      <td>2011</td>\n",
       "      <td>Unknown</td>\n",
       "      <td>Terrestrial</td>\n",
       "      <td>Oceanian</td>\n",
       "      <td>Global</td>\n",
       "      <td>Mollusks</td>\n",
       "      <td>Snails &amp; slugs</td>\n",
       "    </tr>\n",
       "    <tr>\n",
       "      <th>4</th>\n",
       "      <td>Ictalurus mexicanus</td>\n",
       "      <td>Vulnerable</td>\n",
       "      <td>2019</td>\n",
       "      <td>2018</td>\n",
       "      <td>Unknown</td>\n",
       "      <td>Freshwater</td>\n",
       "      <td>Neotropical</td>\n",
       "      <td>Global</td>\n",
       "      <td>Vertebrates</td>\n",
       "      <td>Ray-finned fishes</td>\n",
       "    </tr>\n",
       "    <tr>\n",
       "      <th>...</th>\n",
       "      <td>...</td>\n",
       "      <td>...</td>\n",
       "      <td>...</td>\n",
       "      <td>...</td>\n",
       "      <td>...</td>\n",
       "      <td>...</td>\n",
       "      <td>...</td>\n",
       "      <td>...</td>\n",
       "      <td>...</td>\n",
       "      <td>...</td>\n",
       "    </tr>\n",
       "    <tr>\n",
       "      <th>19833</th>\n",
       "      <td>Cercopithecus nictitans</td>\n",
       "      <td>Near Threatened</td>\n",
       "      <td>2020</td>\n",
       "      <td>2016</td>\n",
       "      <td>Decreasing</td>\n",
       "      <td>Terrestrial</td>\n",
       "      <td>Afrotropical</td>\n",
       "      <td>Global</td>\n",
       "      <td>Vertebrates</td>\n",
       "      <td>Mammals</td>\n",
       "    </tr>\n",
       "    <tr>\n",
       "      <th>19834</th>\n",
       "      <td>Sapajus cay</td>\n",
       "      <td>Vulnerable</td>\n",
       "      <td>2022</td>\n",
       "      <td>2022</td>\n",
       "      <td>Decreasing</td>\n",
       "      <td>Terrestrial</td>\n",
       "      <td>Neotropical</td>\n",
       "      <td>Global</td>\n",
       "      <td>Vertebrates</td>\n",
       "      <td>Mammals</td>\n",
       "    </tr>\n",
       "    <tr>\n",
       "      <th>19835</th>\n",
       "      <td>Plecturocebus vieirai</td>\n",
       "      <td>Critically Endangered</td>\n",
       "      <td>2022</td>\n",
       "      <td>2022</td>\n",
       "      <td>Decreasing</td>\n",
       "      <td>Terrestrial</td>\n",
       "      <td>Neotropical</td>\n",
       "      <td>Global</td>\n",
       "      <td>Vertebrates</td>\n",
       "      <td>Mammals</td>\n",
       "    </tr>\n",
       "    <tr>\n",
       "      <th>19836</th>\n",
       "      <td>Mico schneideri</td>\n",
       "      <td>Endangered</td>\n",
       "      <td>2022</td>\n",
       "      <td>2022</td>\n",
       "      <td>Decreasing</td>\n",
       "      <td>Terrestrial</td>\n",
       "      <td>Neotropical</td>\n",
       "      <td>Global</td>\n",
       "      <td>Vertebrates</td>\n",
       "      <td>Mammals</td>\n",
       "    </tr>\n",
       "    <tr>\n",
       "      <th>19837</th>\n",
       "      <td>Loxodonta africana</td>\n",
       "      <td>Endangered</td>\n",
       "      <td>2022</td>\n",
       "      <td>2020</td>\n",
       "      <td>Decreasing</td>\n",
       "      <td>Terrestrial</td>\n",
       "      <td>Afrotropical</td>\n",
       "      <td>Global</td>\n",
       "      <td>Vertebrates</td>\n",
       "      <td>Mammals</td>\n",
       "    </tr>\n",
       "  </tbody>\n",
       "</table>\n",
       "<p>18454 rows × 10 columns</p>\n",
       "</div>"
      ],
      "text/plain": [
       "               scientific_name      red_list_category  year_published  \\\n",
       "0            Hexanchus griseus        Near Threatened            2020   \n",
       "1          Heosemys annandalii  Critically Endangered            2021   \n",
       "2             Hubbsina turneri  Critically Endangered            2019   \n",
       "3      Hungerfordia pelewensis             Endangered            2012   \n",
       "4          Ictalurus mexicanus             Vulnerable            2019   \n",
       "...                        ...                    ...             ...   \n",
       "19833  Cercopithecus nictitans        Near Threatened            2020   \n",
       "19834              Sapajus cay             Vulnerable            2022   \n",
       "19835    Plecturocebus vieirai  Critically Endangered            2022   \n",
       "19836          Mico schneideri             Endangered            2022   \n",
       "19837       Loxodonta africana             Endangered            2022   \n",
       "\n",
       "      assessment_date population_trend                   systems  \\\n",
       "0                2019       Decreasing                    Marine   \n",
       "1                2018       Decreasing  Terrestial & Freshwater    \n",
       "2                2018       Decreasing                Freshwater   \n",
       "3                2011          Unknown               Terrestrial   \n",
       "4                2018          Unknown                Freshwater   \n",
       "...               ...              ...                       ...   \n",
       "19833            2016       Decreasing               Terrestrial   \n",
       "19834            2022       Decreasing               Terrestrial   \n",
       "19835            2022       Decreasing               Terrestrial   \n",
       "19836            2022       Decreasing               Terrestrial   \n",
       "19837            2020       Decreasing               Terrestrial   \n",
       "\n",
       "             region habitat  phylum_name            class_name  \n",
       "0               NaN  Global  Vertebrates  Cartilaginous fishes  \n",
       "1       Indomalayan  Global  Vertebrates              Reptiles  \n",
       "2       Neotropical  Global  Vertebrates     Ray-finned fishes  \n",
       "3          Oceanian  Global     Mollusks        Snails & slugs  \n",
       "4       Neotropical  Global  Vertebrates     Ray-finned fishes  \n",
       "...             ...     ...          ...                   ...  \n",
       "19833  Afrotropical  Global  Vertebrates               Mammals  \n",
       "19834   Neotropical  Global  Vertebrates               Mammals  \n",
       "19835   Neotropical  Global  Vertebrates               Mammals  \n",
       "19836   Neotropical  Global  Vertebrates               Mammals  \n",
       "19837  Afrotropical  Global  Vertebrates               Mammals  \n",
       "\n",
       "[18454 rows x 10 columns]"
      ]
     },
     "execution_count": 116,
     "metadata": {},
     "output_type": "execute_result"
    }
   ],
   "source": [
    "iucn_df_2"
   ]
  },
  {
   "cell_type": "code",
   "execution_count": 25,
   "id": "f5d33a0a",
   "metadata": {
    "scrolled": true
   },
   "outputs": [
    {
     "data": {
      "text/plain": [
       "Neotropical                                                            4751\n",
       "Palearctic                                                             3351\n",
       "Afrotropical                                                           3080\n",
       "Indomalayan                                                            2906\n",
       "Australasian                                                           1702\n",
       "                                                                       ... \n",
       "Indomalayan|Nearctic|Neotropical|Oceanian|Palearctic                      1\n",
       "Australasian|Indomalayan|Oceanian                                         1\n",
       "Afrotropical|Antarctic|Australasian|Neotropical|Oceanian|Palearctic       1\n",
       "Antarctic|Australasian                                                    1\n",
       "Afrotropical|Australasian|Indomalayan|Neotropical                         1\n",
       "Name: region, Length: 64, dtype: int64"
      ]
     },
     "execution_count": 25,
     "metadata": {},
     "output_type": "execute_result"
    }
   ],
   "source": [
    "#checking what region looks like\n",
    "iucn_df['region'].value_counts()"
   ]
  },
  {
   "cell_type": "code",
   "execution_count": 117,
   "id": "6d9a916b",
   "metadata": {
    "scrolled": true
   },
   "outputs": [],
   "source": [
    "iucn_df_2.to_csv('data/iucn_df_day3_final.csv')"
   ]
  },
  {
   "cell_type": "code",
   "execution_count": 86,
   "id": "997a8a79",
   "metadata": {
    "scrolled": true
   },
   "outputs": [],
   "source": [
    "df_2 = pd.read_csv('data/comptab.csv')"
   ]
  },
  {
   "cell_type": "code",
   "execution_count": 87,
   "id": "2a65cbc2",
   "metadata": {},
   "outputs": [
    {
     "data": {
      "text/plain": [
       "Index(['Year', 'App.', 'Taxon', 'Class', 'Order', 'Family', 'Genus',\n",
       "       'Importer', 'Exporter', 'Origin', 'Importer reported quantity',\n",
       "       'Exporter reported quantity', 'Term', 'Unit', 'Purpose', 'Source'],\n",
       "      dtype='object')"
      ]
     },
     "execution_count": 87,
     "metadata": {},
     "output_type": "execute_result"
    }
   ],
   "source": [
    "df_2.columns"
   ]
  },
  {
   "cell_type": "code",
   "execution_count": 88,
   "id": "0603507d",
   "metadata": {},
   "outputs": [],
   "source": [
    "df_2 = df_2.drop(['Year', 'App.','Class','Order',\n",
    "                              'Genus', 'Importer reported quantity', 'Term', 'Unit', 'Purpose',\n",
    "                              'Source', 'Exporter reported quantity','Importer', 'Family'], axis = 1)"
   ]
  },
  {
   "cell_type": "code",
   "execution_count": 89,
   "id": "21446d4b",
   "metadata": {
    "scrolled": true
   },
   "outputs": [
    {
     "data": {
      "text/plain": [
       "Index(['Taxon', 'Exporter', 'Origin'], dtype='object')"
      ]
     },
     "execution_count": 89,
     "metadata": {},
     "output_type": "execute_result"
    }
   ],
   "source": [
    "df_2.columns"
   ]
  },
  {
   "cell_type": "code",
   "execution_count": 156,
   "id": "aacdd09f",
   "metadata": {},
   "outputs": [],
   "source": [
    "def rename_columns_df2(x):\n",
    "    x.rename(columns={'Taxon':'scientific_name'}, inplace=True )\n",
    "    return x"
   ]
  },
  {
   "cell_type": "code",
   "execution_count": 91,
   "id": "1fb76057",
   "metadata": {},
   "outputs": [],
   "source": [
    "df_2 = rename_columns_df2(df_2)"
   ]
  },
  {
   "cell_type": "code",
   "execution_count": 133,
   "id": "177e38a5",
   "metadata": {
    "scrolled": true
   },
   "outputs": [
    {
     "data": {
      "text/html": [
       "<div>\n",
       "<style scoped>\n",
       "    .dataframe tbody tr th:only-of-type {\n",
       "        vertical-align: middle;\n",
       "    }\n",
       "\n",
       "    .dataframe tbody tr th {\n",
       "        vertical-align: top;\n",
       "    }\n",
       "\n",
       "    .dataframe thead th {\n",
       "        text-align: right;\n",
       "    }\n",
       "</style>\n",
       "<table border=\"1\" class=\"dataframe\">\n",
       "  <thead>\n",
       "    <tr style=\"text-align: right;\">\n",
       "      <th></th>\n",
       "      <th>scientific_name</th>\n",
       "      <th>Exporter</th>\n",
       "    </tr>\n",
       "  </thead>\n",
       "  <tbody>\n",
       "    <tr>\n",
       "      <th>0</th>\n",
       "      <td>Aquila heliaca</td>\n",
       "      <td>NL</td>\n",
       "    </tr>\n",
       "    <tr>\n",
       "      <th>1</th>\n",
       "      <td>Aquila heliaca</td>\n",
       "      <td>RS</td>\n",
       "    </tr>\n",
       "    <tr>\n",
       "      <th>2</th>\n",
       "      <td>Haliaeetus albicilla</td>\n",
       "      <td>NO</td>\n",
       "    </tr>\n",
       "    <tr>\n",
       "      <th>4</th>\n",
       "      <td>Haliaeetus albicilla</td>\n",
       "      <td>IS</td>\n",
       "    </tr>\n",
       "    <tr>\n",
       "      <th>5</th>\n",
       "      <td>Haliaeetus albicilla</td>\n",
       "      <td>RS</td>\n",
       "    </tr>\n",
       "  </tbody>\n",
       "</table>\n",
       "</div>"
      ],
      "text/plain": [
       "        scientific_name Exporter\n",
       "0        Aquila heliaca       NL\n",
       "1        Aquila heliaca       RS\n",
       "2  Haliaeetus albicilla       NO\n",
       "4  Haliaeetus albicilla       IS\n",
       "5  Haliaeetus albicilla       RS"
      ]
     },
     "execution_count": 133,
     "metadata": {},
     "output_type": "execute_result"
    }
   ],
   "source": [
    "df_2.head()"
   ]
  },
  {
   "cell_type": "code",
   "execution_count": 94,
   "id": "fe9ddd23",
   "metadata": {},
   "outputs": [],
   "source": [
    "df_2 = df_2.drop(['Origin'], axis = 1)"
   ]
  },
  {
   "cell_type": "code",
   "execution_count": 100,
   "id": "5fd49233",
   "metadata": {},
   "outputs": [
    {
     "data": {
      "text/plain": [
       "Alligator mississippiensis    86\n",
       "Psittacus erithacus           72\n",
       "Crocodylus niloticus          71\n",
       "Python reticulatus            62\n",
       "Loxodonta africana            60\n",
       "                              ..\n",
       "Bulbophyllum involutum         1\n",
       "Bulbophyllum ipanemense        1\n",
       "Bulbophyllum jolandae          1\n",
       "Bulbophyllum khaoyaiense       1\n",
       "Threnetes niger                1\n",
       "Name: scientific_name, Length: 6382, dtype: int64"
      ]
     },
     "execution_count": 100,
     "metadata": {},
     "output_type": "execute_result"
    }
   ],
   "source": [
    "df_2['scientific_name'].value_counts()"
   ]
  },
  {
   "cell_type": "code",
   "execution_count": 31,
   "id": "13ef0d50",
   "metadata": {
    "scrolled": true
   },
   "outputs": [],
   "source": [
    "df_2.to_csv('data/df_2.csv')"
   ]
  },
  {
   "cell_type": "code",
   "execution_count": 99,
   "id": "fb13d10a",
   "metadata": {
    "scrolled": true
   },
   "outputs": [],
   "source": [
    "df_2 = df_2.drop_duplicates()"
   ]
  },
  {
   "cell_type": "code",
   "execution_count": 101,
   "id": "b1dd446c",
   "metadata": {},
   "outputs": [],
   "source": [
    "df3 = df_2.drop_duplicates(keep='first')"
   ]
  },
  {
   "cell_type": "code",
   "execution_count": 105,
   "id": "8ad311f2",
   "metadata": {},
   "outputs": [
    {
     "data": {
      "text/plain": [
       "Harpia harpyja           1\n",
       "Lycaste reichenbachii    1\n",
       "Lycaste cruenta          1\n",
       "Lycaste deppei           1\n",
       "Lycaste guatemalensis    1\n",
       "                        ..\n",
       "Aloe viridiflora         1\n",
       "Aloe woodii              1\n",
       "Eos cyanogenia           1\n",
       "Eos semilarvata          1\n",
       "Threnetes niger          1\n",
       "Name: scientific_name, Length: 3500, dtype: int64"
      ]
     },
     "execution_count": 105,
     "metadata": {},
     "output_type": "execute_result"
    }
   ],
   "source": [
    "df3['scientific_name'].value_counts()"
   ]
  },
  {
   "cell_type": "code",
   "execution_count": 120,
   "id": "4c3a508e",
   "metadata": {},
   "outputs": [
    {
     "data": {
      "text/html": [
       "<div>\n",
       "<style scoped>\n",
       "    .dataframe tbody tr th:only-of-type {\n",
       "        vertical-align: middle;\n",
       "    }\n",
       "\n",
       "    .dataframe tbody tr th {\n",
       "        vertical-align: top;\n",
       "    }\n",
       "\n",
       "    .dataframe thead th {\n",
       "        text-align: right;\n",
       "    }\n",
       "</style>\n",
       "<table border=\"1\" class=\"dataframe\">\n",
       "  <thead>\n",
       "    <tr style=\"text-align: right;\">\n",
       "      <th></th>\n",
       "      <th>scientific_name</th>\n",
       "      <th>Exporter</th>\n",
       "    </tr>\n",
       "  </thead>\n",
       "  <tbody>\n",
       "    <tr>\n",
       "      <th>6</th>\n",
       "      <td>Harpia harpyja</td>\n",
       "      <td>FR</td>\n",
       "    </tr>\n",
       "    <tr>\n",
       "      <th>9</th>\n",
       "      <td>Acipenser brevirostrum</td>\n",
       "      <td>DE</td>\n",
       "    </tr>\n",
       "    <tr>\n",
       "      <th>10</th>\n",
       "      <td>Acipenser sturio</td>\n",
       "      <td>IR</td>\n",
       "    </tr>\n",
       "    <tr>\n",
       "      <th>20</th>\n",
       "      <td>Alligator sinensis</td>\n",
       "      <td>CN</td>\n",
       "    </tr>\n",
       "    <tr>\n",
       "      <th>24</th>\n",
       "      <td>Asarcornis scutulata</td>\n",
       "      <td>JE</td>\n",
       "    </tr>\n",
       "    <tr>\n",
       "      <th>...</th>\n",
       "      <td>...</td>\n",
       "      <td>...</td>\n",
       "    </tr>\n",
       "    <tr>\n",
       "      <th>67140</th>\n",
       "      <td>Phaethornis atrimentalis</td>\n",
       "      <td>PE</td>\n",
       "    </tr>\n",
       "    <tr>\n",
       "      <th>67142</th>\n",
       "      <td>Phaethornis hispidus</td>\n",
       "      <td>PE</td>\n",
       "    </tr>\n",
       "    <tr>\n",
       "      <th>67143</th>\n",
       "      <td>Phaethornis malaris</td>\n",
       "      <td>PE</td>\n",
       "    </tr>\n",
       "    <tr>\n",
       "      <th>67144</th>\n",
       "      <td>Phaethornis ruber</td>\n",
       "      <td>PE</td>\n",
       "    </tr>\n",
       "    <tr>\n",
       "      <th>67146</th>\n",
       "      <td>Threnetes niger</td>\n",
       "      <td>PE</td>\n",
       "    </tr>\n",
       "  </tbody>\n",
       "</table>\n",
       "<p>3500 rows × 2 columns</p>\n",
       "</div>"
      ],
      "text/plain": [
       "                scientific_name Exporter\n",
       "6                Harpia harpyja       FR\n",
       "9        Acipenser brevirostrum       DE\n",
       "10             Acipenser sturio       IR\n",
       "20           Alligator sinensis       CN\n",
       "24         Asarcornis scutulata       JE\n",
       "...                         ...      ...\n",
       "67140  Phaethornis atrimentalis       PE\n",
       "67142      Phaethornis hispidus       PE\n",
       "67143       Phaethornis malaris       PE\n",
       "67144         Phaethornis ruber       PE\n",
       "67146           Threnetes niger       PE\n",
       "\n",
       "[3500 rows x 2 columns]"
      ]
     },
     "execution_count": 120,
     "metadata": {},
     "output_type": "execute_result"
    }
   ],
   "source": [
    "df3"
   ]
  },
  {
   "cell_type": "code",
   "execution_count": 104,
   "id": "17ff73c5",
   "metadata": {},
   "outputs": [],
   "source": [
    "df3 = df_2.drop_duplicates(subset=['scientific_name'], keep=False)"
   ]
  },
  {
   "cell_type": "code",
   "execution_count": 85,
   "id": "d54c15f7",
   "metadata": {
    "scrolled": true
   },
   "outputs": [
    {
     "data": {
      "text/plain": [
       "Crocodylus niloticus          247\n",
       "Python reticulatus            225\n",
       "Psittacus erithacus           167\n",
       "Loxodonta africana            158\n",
       "Alligator mississippiensis    149\n",
       "                             ... \n",
       "Bulbophyllum mentosum           1\n",
       "Bulbophyllum meridense          1\n",
       "Bulbophyllum microglossum       1\n",
       "Bulbophyllum mindanaense        1\n",
       "Threnetes niger                 1\n",
       "Name: scientific_name, Length: 6382, dtype: int64"
      ]
     },
     "execution_count": 85,
     "metadata": {},
     "output_type": "execute_result"
    }
   ],
   "source": [
    "df_2['scientific_name'].value_counts()"
   ]
  },
  {
   "cell_type": "code",
   "execution_count": 75,
   "id": "70bb81ba",
   "metadata": {},
   "outputs": [
    {
     "data": {
      "text/plain": [
       "13546"
      ]
     },
     "execution_count": 75,
     "metadata": {},
     "output_type": "execute_result"
    }
   ],
   "source": [
    "df_2['Origin'].isna().sum()"
   ]
  },
  {
   "cell_type": "code",
   "execution_count": 76,
   "id": "04ce96d6",
   "metadata": {},
   "outputs": [
    {
     "data": {
      "text/plain": [
       "39"
      ]
     },
     "execution_count": 76,
     "metadata": {},
     "output_type": "execute_result"
    }
   ],
   "source": [
    "df_2['Exporter'].isna().sum()"
   ]
  },
  {
   "cell_type": "code",
   "execution_count": 125,
   "id": "f56f314f",
   "metadata": {},
   "outputs": [],
   "source": [
    "df_concat_4 = pd.merge(iucn_df_2, df3, on='scientific_name', how='left')"
   ]
  },
  {
   "cell_type": "code",
   "execution_count": 126,
   "id": "3af436e9",
   "metadata": {},
   "outputs": [
    {
     "data": {
      "text/plain": [
       "Hexanchus griseus           1\n",
       "Ctenotus kurnbudj           1\n",
       "Treron aromaticus           1\n",
       "Asthenes hudsoni            1\n",
       "Phapitreron maculipectus    1\n",
       "                           ..\n",
       "Tarentola raziana           1\n",
       "Tarentola gigas             1\n",
       "Tarentola boavistensis      1\n",
       "Gastropholis prasina        1\n",
       "Loxodonta africana          1\n",
       "Name: scientific_name, Length: 18454, dtype: int64"
      ]
     },
     "execution_count": 126,
     "metadata": {},
     "output_type": "execute_result"
    }
   ],
   "source": [
    "df_concat_4['scientific_name'].value_counts()"
   ]
  },
  {
   "cell_type": "code",
   "execution_count": 155,
   "id": "1a3c9637",
   "metadata": {},
   "outputs": [],
   "source": [
    "df_concat_4.to_csv('data/iucn_export.csv')\n",
    "#concatenated with exporter countries"
   ]
  },
  {
   "cell_type": "code",
   "execution_count": 129,
   "id": "2401cbd3",
   "metadata": {},
   "outputs": [
    {
     "data": {
      "text/plain": [
       "ID    60\n",
       "MG    40\n",
       "US    21\n",
       "AU    18\n",
       "CN    15\n",
       "      ..\n",
       "BS     1\n",
       "KY     1\n",
       "AT     1\n",
       "UG     1\n",
       "DK     1\n",
       "Name: Exporter, Length: 63, dtype: int64"
      ]
     },
     "execution_count": 129,
     "metadata": {},
     "output_type": "execute_result"
    }
   ],
   "source": [
    "df_concat_4['Exporter'].value_counts()"
   ]
  },
  {
   "cell_type": "code",
   "execution_count": 132,
   "id": "6f35516d",
   "metadata": {
    "scrolled": true
   },
   "outputs": [
    {
     "data": {
      "text/plain": [
       "18138"
      ]
     },
     "execution_count": 132,
     "metadata": {},
     "output_type": "execute_result"
    }
   ],
   "source": [
    "df_concat_4['Exporter'].isna().sum()"
   ]
  },
  {
   "cell_type": "code",
   "execution_count": 144,
   "id": "afef2fcf",
   "metadata": {},
   "outputs": [],
   "source": [
    "df_5 = pd.read_csv('data/comptab.csv')"
   ]
  },
  {
   "cell_type": "code",
   "execution_count": 145,
   "id": "acedaa48",
   "metadata": {},
   "outputs": [
    {
     "data": {
      "text/plain": [
       "Index(['Year', 'App.', 'Taxon', 'Class', 'Order', 'Family', 'Genus',\n",
       "       'Importer', 'Exporter', 'Origin', 'Importer reported quantity',\n",
       "       'Exporter reported quantity', 'Term', 'Unit', 'Purpose', 'Source'],\n",
       "      dtype='object')"
      ]
     },
     "execution_count": 145,
     "metadata": {},
     "output_type": "execute_result"
    }
   ],
   "source": [
    "df_5.columns"
   ]
  },
  {
   "cell_type": "code",
   "execution_count": 146,
   "id": "7c632ef8",
   "metadata": {},
   "outputs": [],
   "source": [
    "df_5 = df_5.drop(['Year', 'App.','Class','Order',\n",
    "                  'Genus', 'Importer reported quantity', 'Term', 'Unit', 'Purpose',\n",
    "                  'Source', 'Exporter reported quantity','Importer', 'Family', 'Exporter'], axis = 1)"
   ]
  },
  {
   "cell_type": "code",
   "execution_count": 153,
   "id": "a55a5d10",
   "metadata": {
    "scrolled": true
   },
   "outputs": [],
   "source": [
    "df_5 = df_5.dropna()"
   ]
  },
  {
   "cell_type": "code",
   "execution_count": 158,
   "id": "a5295314",
   "metadata": {},
   "outputs": [
    {
     "data": {
      "text/html": [
       "<div>\n",
       "<style scoped>\n",
       "    .dataframe tbody tr th:only-of-type {\n",
       "        vertical-align: middle;\n",
       "    }\n",
       "\n",
       "    .dataframe tbody tr th {\n",
       "        vertical-align: top;\n",
       "    }\n",
       "\n",
       "    .dataframe thead th {\n",
       "        text-align: right;\n",
       "    }\n",
       "</style>\n",
       "<table border=\"1\" class=\"dataframe\">\n",
       "  <thead>\n",
       "    <tr style=\"text-align: right;\">\n",
       "      <th></th>\n",
       "      <th>scientific_name</th>\n",
       "      <th>Origin</th>\n",
       "    </tr>\n",
       "  </thead>\n",
       "  <tbody>\n",
       "    <tr>\n",
       "      <th>632</th>\n",
       "      <td>Cheirogaleus major</td>\n",
       "      <td>XX</td>\n",
       "    </tr>\n",
       "    <tr>\n",
       "      <th>888</th>\n",
       "      <td>Jabiru mycteria</td>\n",
       "      <td>BR</td>\n",
       "    </tr>\n",
       "    <tr>\n",
       "      <th>3202</th>\n",
       "      <td>Panthera hybrid</td>\n",
       "      <td>RU</td>\n",
       "    </tr>\n",
       "    <tr>\n",
       "      <th>3917</th>\n",
       "      <td>Eulemur mongoz</td>\n",
       "      <td>XX</td>\n",
       "    </tr>\n",
       "    <tr>\n",
       "      <th>3964</th>\n",
       "      <td>Lepilemur spp.</td>\n",
       "      <td>XX</td>\n",
       "    </tr>\n",
       "    <tr>\n",
       "      <th>...</th>\n",
       "      <td>...</td>\n",
       "      <td>...</td>\n",
       "    </tr>\n",
       "    <tr>\n",
       "      <th>65322</th>\n",
       "      <td>Coralliidae spp.</td>\n",
       "      <td>XX</td>\n",
       "    </tr>\n",
       "    <tr>\n",
       "      <th>65795</th>\n",
       "      <td>Dactylocnemis pacificus</td>\n",
       "      <td>DE</td>\n",
       "    </tr>\n",
       "    <tr>\n",
       "      <th>65973</th>\n",
       "      <td>Martes flavigula</td>\n",
       "      <td>RU</td>\n",
       "    </tr>\n",
       "    <tr>\n",
       "      <th>66094</th>\n",
       "      <td>Odobenidae spp.</td>\n",
       "      <td>XX</td>\n",
       "    </tr>\n",
       "    <tr>\n",
       "      <th>66952</th>\n",
       "      <td>Phyllomedusa sauvagii</td>\n",
       "      <td>US</td>\n",
       "    </tr>\n",
       "  </tbody>\n",
       "</table>\n",
       "<p>171 rows × 2 columns</p>\n",
       "</div>"
      ],
      "text/plain": [
       "               scientific_name Origin\n",
       "632         Cheirogaleus major     XX\n",
       "888            Jabiru mycteria     BR\n",
       "3202           Panthera hybrid     RU\n",
       "3917            Eulemur mongoz     XX\n",
       "3964            Lepilemur spp.     XX\n",
       "...                        ...    ...\n",
       "65322         Coralliidae spp.     XX\n",
       "65795  Dactylocnemis pacificus     DE\n",
       "65973         Martes flavigula     RU\n",
       "66094          Odobenidae spp.     XX\n",
       "66952    Phyllomedusa sauvagii     US\n",
       "\n",
       "[171 rows x 2 columns]"
      ]
     },
     "execution_count": 158,
     "metadata": {},
     "output_type": "execute_result"
    }
   ],
   "source": [
    "df_5"
   ]
  },
  {
   "cell_type": "code",
   "execution_count": 160,
   "id": "54038a03",
   "metadata": {},
   "outputs": [],
   "source": [
    "df_concat_5 = pd.merge(df_concat_4, df_5, on='scientific_name', how='left')"
   ]
  },
  {
   "cell_type": "code",
   "execution_count": 173,
   "id": "c960be24",
   "metadata": {},
   "outputs": [],
   "source": [
    "df_concat_5.to_csv('data/iucn_df_fri.csv')"
   ]
  },
  {
   "cell_type": "code",
   "execution_count": 157,
   "id": "a9aeff97",
   "metadata": {},
   "outputs": [
    {
     "name": "stderr",
     "output_type": "stream",
     "text": [
      "C:\\Users\\Monika\\AppData\\Local\\Temp\\ipykernel_23752\\1010973329.py:2: SettingWithCopyWarning: \n",
      "A value is trying to be set on a copy of a slice from a DataFrame\n",
      "\n",
      "See the caveats in the documentation: https://pandas.pydata.org/pandas-docs/stable/user_guide/indexing.html#returning-a-view-versus-a-copy\n",
      "  x.rename(columns={'Taxon':'scientific_name'}, inplace=True )\n"
     ]
    }
   ],
   "source": [
    "df_5 = rename_columns_df2(df_5)"
   ]
  },
  {
   "cell_type": "code",
   "execution_count": null,
   "id": "633bfb35",
   "metadata": {},
   "outputs": [],
   "source": [
    "# Merge columns with priority to Column B\n",
    "df['Merged Column'] = df['Column B'].fillna(df['Column A'])\n",
    "\n",
    "# Display the resulting DataFrame\n",
    "print(df)"
   ]
  },
  {
   "cell_type": "code",
   "execution_count": 148,
   "id": "5ec02a80",
   "metadata": {},
   "outputs": [],
   "source": [
    "df_5 = df_5.drop_duplicates(subset=['Taxon'], keep=False)"
   ]
  },
  {
   "cell_type": "code",
   "execution_count": 150,
   "id": "ce7118a9",
   "metadata": {},
   "outputs": [
    {
     "data": {
      "text/plain": [
       "2253"
      ]
     },
     "execution_count": 150,
     "metadata": {},
     "output_type": "execute_result"
    }
   ],
   "source": [
    "df_5['Origin'].isna().sum()"
   ]
  },
  {
   "cell_type": "code",
   "execution_count": 42,
   "id": "95f71dab",
   "metadata": {
    "scrolled": true
   },
   "outputs": [
    {
     "data": {
      "text/plain": [
       "XX    1322\n",
       "ZW    1246\n",
       "VN     959\n",
       "ZA     771\n",
       "FR     684\n",
       "      ... \n",
       "SR       1\n",
       "RO       1\n",
       "LV       1\n",
       "VU       1\n",
       "GQ       1\n",
       "Name: Origin, Length: 138, dtype: int64"
      ]
     },
     "execution_count": 42,
     "metadata": {},
     "output_type": "execute_result"
    }
   ],
   "source": [
    "df_concatenated['Origin'].value_counts()"
   ]
  },
  {
   "cell_type": "code",
   "execution_count": 44,
   "id": "34a83fd8",
   "metadata": {
    "scrolled": true
   },
   "outputs": [
    {
     "data": {
      "text/plain": [
       "13594"
      ]
     },
     "execution_count": 44,
     "metadata": {},
     "output_type": "execute_result"
    }
   ],
   "source": [
    "df_concatenated['Origin'].isna().sum()"
   ]
  },
  {
   "cell_type": "code",
   "execution_count": 46,
   "id": "2f001d34",
   "metadata": {},
   "outputs": [
    {
     "data": {
      "text/plain": [
       "FR    2024\n",
       "IT    1886\n",
       "DE    1864\n",
       "ID    1656\n",
       "US    1653\n",
       "      ... \n",
       "PF       1\n",
       "SM       1\n",
       "AQ       1\n",
       "PY       1\n",
       "KM       1\n",
       "Name: Exporter, Length: 175, dtype: int64"
      ]
     },
     "execution_count": 46,
     "metadata": {},
     "output_type": "execute_result"
    }
   ],
   "source": [
    "df_concatenated['Exporter'].value_counts()"
   ]
  },
  {
   "cell_type": "code",
   "execution_count": 49,
   "id": "f89f2ff0",
   "metadata": {},
   "outputs": [
    {
     "data": {
      "text/plain": [
       "654"
      ]
     },
     "execution_count": 49,
     "metadata": {},
     "output_type": "execute_result"
    }
   ],
   "source": [
    "df_concatenated['Exporter'].isna().sum()"
   ]
  },
  {
   "cell_type": "code",
   "execution_count": 50,
   "id": "a02f83b4",
   "metadata": {
    "scrolled": true
   },
   "outputs": [],
   "source": [
    "df_concatenated.to_csv('data/df_concatenated.csv')\n",
    "#df of concatenated scientific name and exporter and origin "
   ]
  },
  {
   "cell_type": "code",
   "execution_count": 60,
   "id": "194f1da5",
   "metadata": {},
   "outputs": [
    {
     "data": {
      "text/plain": [
       "19094"
      ]
     },
     "execution_count": 60,
     "metadata": {},
     "output_type": "execute_result"
    }
   ],
   "source": [
    "df_concatenated.duplicated().sum()"
   ]
  },
  {
   "cell_type": "code",
   "execution_count": 54,
   "id": "58e4d55f",
   "metadata": {},
   "outputs": [],
   "source": [
    "df_3 = pd.read_excel('data/exporter_df.xlsx')"
   ]
  },
  {
   "cell_type": "code",
   "execution_count": 55,
   "id": "68d97b64",
   "metadata": {
    "scrolled": true
   },
   "outputs": [
    {
     "data": {
      "text/html": [
       "<div>\n",
       "<style scoped>\n",
       "    .dataframe tbody tr th:only-of-type {\n",
       "        vertical-align: middle;\n",
       "    }\n",
       "\n",
       "    .dataframe tbody tr th {\n",
       "        vertical-align: top;\n",
       "    }\n",
       "\n",
       "    .dataframe thead th {\n",
       "        text-align: right;\n",
       "    }\n",
       "</style>\n",
       "<table border=\"1\" class=\"dataframe\">\n",
       "  <thead>\n",
       "    <tr style=\"text-align: right;\">\n",
       "      <th></th>\n",
       "      <th>Exporter</th>\n",
       "      <th>latitude</th>\n",
       "      <th>longitude</th>\n",
       "      <th>country</th>\n",
       "    </tr>\n",
       "  </thead>\n",
       "  <tbody>\n",
       "    <tr>\n",
       "      <th>0</th>\n",
       "      <td>AD</td>\n",
       "      <td>42.546245</td>\n",
       "      <td>1.601554</td>\n",
       "      <td>Andorra</td>\n",
       "    </tr>\n",
       "    <tr>\n",
       "      <th>1</th>\n",
       "      <td>AE</td>\n",
       "      <td>23.424076</td>\n",
       "      <td>53.847818</td>\n",
       "      <td>United Arab Emirates</td>\n",
       "    </tr>\n",
       "    <tr>\n",
       "      <th>2</th>\n",
       "      <td>AF</td>\n",
       "      <td>33.939110</td>\n",
       "      <td>67.709953</td>\n",
       "      <td>Afghanistan</td>\n",
       "    </tr>\n",
       "    <tr>\n",
       "      <th>3</th>\n",
       "      <td>AG</td>\n",
       "      <td>17.060816</td>\n",
       "      <td>-61.796428</td>\n",
       "      <td>Antigua and Barbuda</td>\n",
       "    </tr>\n",
       "    <tr>\n",
       "      <th>4</th>\n",
       "      <td>AI</td>\n",
       "      <td>18.220554</td>\n",
       "      <td>-63.068615</td>\n",
       "      <td>Anguilla</td>\n",
       "    </tr>\n",
       "    <tr>\n",
       "      <th>...</th>\n",
       "      <td>...</td>\n",
       "      <td>...</td>\n",
       "      <td>...</td>\n",
       "      <td>...</td>\n",
       "    </tr>\n",
       "    <tr>\n",
       "      <th>240</th>\n",
       "      <td>YE</td>\n",
       "      <td>15.552727</td>\n",
       "      <td>48.516388</td>\n",
       "      <td>Yemen</td>\n",
       "    </tr>\n",
       "    <tr>\n",
       "      <th>241</th>\n",
       "      <td>YT</td>\n",
       "      <td>-12.827500</td>\n",
       "      <td>45.166244</td>\n",
       "      <td>Mayotte</td>\n",
       "    </tr>\n",
       "    <tr>\n",
       "      <th>242</th>\n",
       "      <td>ZA</td>\n",
       "      <td>-30.559482</td>\n",
       "      <td>22.937506</td>\n",
       "      <td>South Africa</td>\n",
       "    </tr>\n",
       "    <tr>\n",
       "      <th>243</th>\n",
       "      <td>ZM</td>\n",
       "      <td>-13.133897</td>\n",
       "      <td>27.849332</td>\n",
       "      <td>Zambia</td>\n",
       "    </tr>\n",
       "    <tr>\n",
       "      <th>244</th>\n",
       "      <td>ZW</td>\n",
       "      <td>-19.015438</td>\n",
       "      <td>29.154857</td>\n",
       "      <td>Zimbabwe</td>\n",
       "    </tr>\n",
       "  </tbody>\n",
       "</table>\n",
       "<p>245 rows × 4 columns</p>\n",
       "</div>"
      ],
      "text/plain": [
       "    Exporter   latitude  longitude               country\n",
       "0         AD  42.546245   1.601554               Andorra\n",
       "1         AE  23.424076  53.847818  United Arab Emirates\n",
       "2         AF  33.939110  67.709953           Afghanistan\n",
       "3         AG  17.060816 -61.796428   Antigua and Barbuda\n",
       "4         AI  18.220554 -63.068615              Anguilla\n",
       "..       ...        ...        ...                   ...\n",
       "240       YE  15.552727  48.516388                 Yemen\n",
       "241       YT -12.827500  45.166244               Mayotte\n",
       "242       ZA -30.559482  22.937506          South Africa\n",
       "243       ZM -13.133897  27.849332                Zambia\n",
       "244       ZW -19.015438  29.154857              Zimbabwe\n",
       "\n",
       "[245 rows x 4 columns]"
      ]
     },
     "execution_count": 55,
     "metadata": {},
     "output_type": "execute_result"
    }
   ],
   "source": [
    "df_3"
   ]
  },
  {
   "cell_type": "code",
   "execution_count": 56,
   "id": "5e7bc40a",
   "metadata": {},
   "outputs": [],
   "source": [
    "df_concat_2 = pd.merge(df_concatenated, df_3, on='Exporter', how='inner')"
   ]
  },
  {
   "cell_type": "code",
   "execution_count": 57,
   "id": "3c28cd13",
   "metadata": {},
   "outputs": [
    {
     "data": {
      "text/html": [
       "<div>\n",
       "<style scoped>\n",
       "    .dataframe tbody tr th:only-of-type {\n",
       "        vertical-align: middle;\n",
       "    }\n",
       "\n",
       "    .dataframe tbody tr th {\n",
       "        vertical-align: top;\n",
       "    }\n",
       "\n",
       "    .dataframe thead th {\n",
       "        text-align: right;\n",
       "    }\n",
       "</style>\n",
       "<table border=\"1\" class=\"dataframe\">\n",
       "  <thead>\n",
       "    <tr style=\"text-align: right;\">\n",
       "      <th></th>\n",
       "      <th>scientific_name</th>\n",
       "      <th>red_list_category</th>\n",
       "      <th>year_published</th>\n",
       "      <th>assessment_date</th>\n",
       "      <th>population_trend</th>\n",
       "      <th>systems</th>\n",
       "      <th>region</th>\n",
       "      <th>habitat</th>\n",
       "      <th>phylum_name</th>\n",
       "      <th>class_name</th>\n",
       "      <th>Exporter</th>\n",
       "      <th>Origin</th>\n",
       "      <th>latitude</th>\n",
       "      <th>longitude</th>\n",
       "      <th>country</th>\n",
       "    </tr>\n",
       "  </thead>\n",
       "  <tbody>\n",
       "    <tr>\n",
       "      <th>0</th>\n",
       "      <td>Indotestudo forstenii</td>\n",
       "      <td>Critically Endangered</td>\n",
       "      <td>2021</td>\n",
       "      <td>2018</td>\n",
       "      <td>Decreasing</td>\n",
       "      <td>Terrestrial</td>\n",
       "      <td>Australasian</td>\n",
       "      <td>Global</td>\n",
       "      <td>Vertebrates</td>\n",
       "      <td>Reptiles</td>\n",
       "      <td>ID</td>\n",
       "      <td>NaN</td>\n",
       "      <td>-0.789275</td>\n",
       "      <td>113.921327</td>\n",
       "      <td>Indonesia</td>\n",
       "    </tr>\n",
       "    <tr>\n",
       "      <th>1</th>\n",
       "      <td>Indotestudo forstenii</td>\n",
       "      <td>Critically Endangered</td>\n",
       "      <td>2021</td>\n",
       "      <td>2018</td>\n",
       "      <td>Decreasing</td>\n",
       "      <td>Terrestrial</td>\n",
       "      <td>Australasian</td>\n",
       "      <td>Global</td>\n",
       "      <td>Vertebrates</td>\n",
       "      <td>Reptiles</td>\n",
       "      <td>ID</td>\n",
       "      <td>NaN</td>\n",
       "      <td>-0.789275</td>\n",
       "      <td>113.921327</td>\n",
       "      <td>Indonesia</td>\n",
       "    </tr>\n",
       "    <tr>\n",
       "      <th>2</th>\n",
       "      <td>Indotestudo forstenii</td>\n",
       "      <td>Critically Endangered</td>\n",
       "      <td>2021</td>\n",
       "      <td>2018</td>\n",
       "      <td>Decreasing</td>\n",
       "      <td>Terrestrial</td>\n",
       "      <td>Australasian</td>\n",
       "      <td>Global</td>\n",
       "      <td>Vertebrates</td>\n",
       "      <td>Reptiles</td>\n",
       "      <td>ID</td>\n",
       "      <td>NaN</td>\n",
       "      <td>-0.789275</td>\n",
       "      <td>113.921327</td>\n",
       "      <td>Indonesia</td>\n",
       "    </tr>\n",
       "    <tr>\n",
       "      <th>3</th>\n",
       "      <td>Indotestudo forstenii</td>\n",
       "      <td>Critically Endangered</td>\n",
       "      <td>2021</td>\n",
       "      <td>2018</td>\n",
       "      <td>Decreasing</td>\n",
       "      <td>Terrestrial</td>\n",
       "      <td>Australasian</td>\n",
       "      <td>Global</td>\n",
       "      <td>Vertebrates</td>\n",
       "      <td>Reptiles</td>\n",
       "      <td>ID</td>\n",
       "      <td>NaN</td>\n",
       "      <td>-0.789275</td>\n",
       "      <td>113.921327</td>\n",
       "      <td>Indonesia</td>\n",
       "    </tr>\n",
       "    <tr>\n",
       "      <th>4</th>\n",
       "      <td>Indotestudo forstenii</td>\n",
       "      <td>Critically Endangered</td>\n",
       "      <td>2021</td>\n",
       "      <td>2018</td>\n",
       "      <td>Decreasing</td>\n",
       "      <td>Terrestrial</td>\n",
       "      <td>Australasian</td>\n",
       "      <td>Global</td>\n",
       "      <td>Vertebrates</td>\n",
       "      <td>Reptiles</td>\n",
       "      <td>ID</td>\n",
       "      <td>NaN</td>\n",
       "      <td>-0.789275</td>\n",
       "      <td>113.921327</td>\n",
       "      <td>Indonesia</td>\n",
       "    </tr>\n",
       "    <tr>\n",
       "      <th>...</th>\n",
       "      <td>...</td>\n",
       "      <td>...</td>\n",
       "      <td>...</td>\n",
       "      <td>...</td>\n",
       "      <td>...</td>\n",
       "      <td>...</td>\n",
       "      <td>...</td>\n",
       "      <td>...</td>\n",
       "      <td>...</td>\n",
       "      <td>...</td>\n",
       "      <td>...</td>\n",
       "      <td>...</td>\n",
       "      <td>...</td>\n",
       "      <td>...</td>\n",
       "      <td>...</td>\n",
       "    </tr>\n",
       "    <tr>\n",
       "      <th>24599</th>\n",
       "      <td>Loxodonta africana</td>\n",
       "      <td>Endangered</td>\n",
       "      <td>2022</td>\n",
       "      <td>2020</td>\n",
       "      <td>Decreasing</td>\n",
       "      <td>Terrestrial</td>\n",
       "      <td>Afrotropical</td>\n",
       "      <td>Global</td>\n",
       "      <td>Vertebrates</td>\n",
       "      <td>Mammals</td>\n",
       "      <td>AD</td>\n",
       "      <td>XX</td>\n",
       "      <td>42.546245</td>\n",
       "      <td>1.601554</td>\n",
       "      <td>Andorra</td>\n",
       "    </tr>\n",
       "    <tr>\n",
       "      <th>24600</th>\n",
       "      <td>Loxodonta africana</td>\n",
       "      <td>Endangered</td>\n",
       "      <td>2022</td>\n",
       "      <td>2020</td>\n",
       "      <td>Decreasing</td>\n",
       "      <td>Terrestrial</td>\n",
       "      <td>Afrotropical</td>\n",
       "      <td>Global</td>\n",
       "      <td>Vertebrates</td>\n",
       "      <td>Mammals</td>\n",
       "      <td>SZ</td>\n",
       "      <td>NaN</td>\n",
       "      <td>-26.522503</td>\n",
       "      <td>31.465866</td>\n",
       "      <td>Swaziland</td>\n",
       "    </tr>\n",
       "    <tr>\n",
       "      <th>24601</th>\n",
       "      <td>Loxodonta africana</td>\n",
       "      <td>Endangered</td>\n",
       "      <td>2022</td>\n",
       "      <td>2020</td>\n",
       "      <td>Decreasing</td>\n",
       "      <td>Terrestrial</td>\n",
       "      <td>Afrotropical</td>\n",
       "      <td>Global</td>\n",
       "      <td>Vertebrates</td>\n",
       "      <td>Mammals</td>\n",
       "      <td>BW</td>\n",
       "      <td>NaN</td>\n",
       "      <td>-22.328474</td>\n",
       "      <td>24.684866</td>\n",
       "      <td>Botswana</td>\n",
       "    </tr>\n",
       "    <tr>\n",
       "      <th>24602</th>\n",
       "      <td>Loxodonta africana</td>\n",
       "      <td>Endangered</td>\n",
       "      <td>2022</td>\n",
       "      <td>2020</td>\n",
       "      <td>Decreasing</td>\n",
       "      <td>Terrestrial</td>\n",
       "      <td>Afrotropical</td>\n",
       "      <td>Global</td>\n",
       "      <td>Vertebrates</td>\n",
       "      <td>Mammals</td>\n",
       "      <td>BW</td>\n",
       "      <td>NaN</td>\n",
       "      <td>-22.328474</td>\n",
       "      <td>24.684866</td>\n",
       "      <td>Botswana</td>\n",
       "    </tr>\n",
       "    <tr>\n",
       "      <th>24603</th>\n",
       "      <td>Loxodonta africana</td>\n",
       "      <td>Endangered</td>\n",
       "      <td>2022</td>\n",
       "      <td>2020</td>\n",
       "      <td>Decreasing</td>\n",
       "      <td>Terrestrial</td>\n",
       "      <td>Afrotropical</td>\n",
       "      <td>Global</td>\n",
       "      <td>Vertebrates</td>\n",
       "      <td>Mammals</td>\n",
       "      <td>BW</td>\n",
       "      <td>NaN</td>\n",
       "      <td>-22.328474</td>\n",
       "      <td>24.684866</td>\n",
       "      <td>Botswana</td>\n",
       "    </tr>\n",
       "  </tbody>\n",
       "</table>\n",
       "<p>24604 rows × 15 columns</p>\n",
       "</div>"
      ],
      "text/plain": [
       "             scientific_name      red_list_category  year_published  \\\n",
       "0      Indotestudo forstenii  Critically Endangered            2021   \n",
       "1      Indotestudo forstenii  Critically Endangered            2021   \n",
       "2      Indotestudo forstenii  Critically Endangered            2021   \n",
       "3      Indotestudo forstenii  Critically Endangered            2021   \n",
       "4      Indotestudo forstenii  Critically Endangered            2021   \n",
       "...                      ...                    ...             ...   \n",
       "24599     Loxodonta africana             Endangered            2022   \n",
       "24600     Loxodonta africana             Endangered            2022   \n",
       "24601     Loxodonta africana             Endangered            2022   \n",
       "24602     Loxodonta africana             Endangered            2022   \n",
       "24603     Loxodonta africana             Endangered            2022   \n",
       "\n",
       "      assessment_date population_trend      systems        region habitat  \\\n",
       "0                2018       Decreasing  Terrestrial  Australasian  Global   \n",
       "1                2018       Decreasing  Terrestrial  Australasian  Global   \n",
       "2                2018       Decreasing  Terrestrial  Australasian  Global   \n",
       "3                2018       Decreasing  Terrestrial  Australasian  Global   \n",
       "4                2018       Decreasing  Terrestrial  Australasian  Global   \n",
       "...               ...              ...          ...           ...     ...   \n",
       "24599            2020       Decreasing  Terrestrial  Afrotropical  Global   \n",
       "24600            2020       Decreasing  Terrestrial  Afrotropical  Global   \n",
       "24601            2020       Decreasing  Terrestrial  Afrotropical  Global   \n",
       "24602            2020       Decreasing  Terrestrial  Afrotropical  Global   \n",
       "24603            2020       Decreasing  Terrestrial  Afrotropical  Global   \n",
       "\n",
       "       phylum_name class_name Exporter Origin   latitude   longitude  \\\n",
       "0      Vertebrates   Reptiles       ID    NaN  -0.789275  113.921327   \n",
       "1      Vertebrates   Reptiles       ID    NaN  -0.789275  113.921327   \n",
       "2      Vertebrates   Reptiles       ID    NaN  -0.789275  113.921327   \n",
       "3      Vertebrates   Reptiles       ID    NaN  -0.789275  113.921327   \n",
       "4      Vertebrates   Reptiles       ID    NaN  -0.789275  113.921327   \n",
       "...            ...        ...      ...    ...        ...         ...   \n",
       "24599  Vertebrates    Mammals       AD     XX  42.546245    1.601554   \n",
       "24600  Vertebrates    Mammals       SZ    NaN -26.522503   31.465866   \n",
       "24601  Vertebrates    Mammals       BW    NaN -22.328474   24.684866   \n",
       "24602  Vertebrates    Mammals       BW    NaN -22.328474   24.684866   \n",
       "24603  Vertebrates    Mammals       BW    NaN -22.328474   24.684866   \n",
       "\n",
       "         country  \n",
       "0      Indonesia  \n",
       "1      Indonesia  \n",
       "2      Indonesia  \n",
       "3      Indonesia  \n",
       "4      Indonesia  \n",
       "...          ...  \n",
       "24599    Andorra  \n",
       "24600  Swaziland  \n",
       "24601   Botswana  \n",
       "24602   Botswana  \n",
       "24603   Botswana  \n",
       "\n",
       "[24604 rows x 15 columns]"
      ]
     },
     "execution_count": 57,
     "metadata": {},
     "output_type": "execute_result"
    }
   ],
   "source": [
    "df_concat_2"
   ]
  }
 ],
 "metadata": {
  "kernelspec": {
   "display_name": "Python 3 (ipykernel)",
   "language": "python",
   "name": "python3"
  },
  "language_info": {
   "codemirror_mode": {
    "name": "ipython",
    "version": 3
   },
   "file_extension": ".py",
   "mimetype": "text/x-python",
   "name": "python",
   "nbconvert_exporter": "python",
   "pygments_lexer": "ipython3",
   "version": "3.9.13"
  }
 },
 "nbformat": 4,
 "nbformat_minor": 5
}
