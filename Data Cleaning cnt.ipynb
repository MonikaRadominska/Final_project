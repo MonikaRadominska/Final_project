{
 "cells": [
  {
   "cell_type": "markdown",
   "id": "474457fd",
   "metadata": {},
   "source": [
    "### Data Cleaning continued "
   ]
  },
  {
   "cell_type": "code",
   "execution_count": 2,
   "id": "1bdf8061",
   "metadata": {},
   "outputs": [],
   "source": [
    "# Continuing in a new notebook with saved df after Wed-Thu's work"
   ]
  },
  {
   "cell_type": "markdown",
   "id": "4ba9fd16",
   "metadata": {},
   "source": [
    "### Importing libraries"
   ]
  },
  {
   "cell_type": "code",
   "execution_count": 1,
   "id": "6d420c0d",
   "metadata": {},
   "outputs": [],
   "source": [
    "import pandas as pd"
   ]
  },
  {
   "cell_type": "markdown",
   "id": "f4a27bba",
   "metadata": {},
   "source": [
    "### Importing data "
   ]
  },
  {
   "cell_type": "code",
   "execution_count": 3,
   "id": "4d768371",
   "metadata": {},
   "outputs": [],
   "source": [
    "iucn_df = pd.read_csv('data/iucn_df_day2.csv')"
   ]
  },
  {
   "cell_type": "code",
   "execution_count": 6,
   "id": "03964ac8",
   "metadata": {},
   "outputs": [],
   "source": [
    "iucn_df = iucn_df.drop(['Unnamed: 0'], axis = 1)\n",
    "#dropping the unnamed axis "
   ]
  },
  {
   "cell_type": "code",
   "execution_count": 12,
   "id": "90bd76e5",
   "metadata": {
    "scrolled": true
   },
   "outputs": [
    {
     "data": {
      "text/html": [
       "<div>\n",
       "<style scoped>\n",
       "    .dataframe tbody tr th:only-of-type {\n",
       "        vertical-align: middle;\n",
       "    }\n",
       "\n",
       "    .dataframe tbody tr th {\n",
       "        vertical-align: top;\n",
       "    }\n",
       "\n",
       "    .dataframe thead th {\n",
       "        text-align: right;\n",
       "    }\n",
       "</style>\n",
       "<table border=\"1\" class=\"dataframe\">\n",
       "  <thead>\n",
       "    <tr style=\"text-align: right;\">\n",
       "      <th></th>\n",
       "      <th>scientific_name</th>\n",
       "      <th>red_list_category</th>\n",
       "      <th>year_published</th>\n",
       "      <th>assessment_date</th>\n",
       "      <th>population_trend</th>\n",
       "      <th>systems</th>\n",
       "      <th>region</th>\n",
       "      <th>habitat</th>\n",
       "      <th>phylum_name</th>\n",
       "      <th>class_name</th>\n",
       "    </tr>\n",
       "  </thead>\n",
       "  <tbody>\n",
       "    <tr>\n",
       "      <th>0</th>\n",
       "      <td>Hexanchus griseus</td>\n",
       "      <td>Near Threatened</td>\n",
       "      <td>2020</td>\n",
       "      <td>2019</td>\n",
       "      <td>Decreasing</td>\n",
       "      <td>Marine</td>\n",
       "      <td>NaN</td>\n",
       "      <td>Global</td>\n",
       "      <td>Vertebrates</td>\n",
       "      <td>Cartilaginous fishes</td>\n",
       "    </tr>\n",
       "    <tr>\n",
       "      <th>1</th>\n",
       "      <td>Heosemys annandalii</td>\n",
       "      <td>Critically Endangered</td>\n",
       "      <td>2021</td>\n",
       "      <td>2018</td>\n",
       "      <td>Decreasing</td>\n",
       "      <td>Terrestial &amp; Freshwater</td>\n",
       "      <td>Indomalayan</td>\n",
       "      <td>Global</td>\n",
       "      <td>Vertebrates</td>\n",
       "      <td>Reptiles</td>\n",
       "    </tr>\n",
       "    <tr>\n",
       "      <th>2</th>\n",
       "      <td>Hubbsina turneri</td>\n",
       "      <td>Critically Endangered</td>\n",
       "      <td>2019</td>\n",
       "      <td>2018</td>\n",
       "      <td>Decreasing</td>\n",
       "      <td>Freshwater</td>\n",
       "      <td>Neotropical</td>\n",
       "      <td>Global</td>\n",
       "      <td>Vertebrates</td>\n",
       "      <td>Ray-finned fishes</td>\n",
       "    </tr>\n",
       "    <tr>\n",
       "      <th>3</th>\n",
       "      <td>Hungerfordia pelewensis</td>\n",
       "      <td>Endangered</td>\n",
       "      <td>2012</td>\n",
       "      <td>2011</td>\n",
       "      <td>Unknown</td>\n",
       "      <td>Terrestrial</td>\n",
       "      <td>Oceanian</td>\n",
       "      <td>Global</td>\n",
       "      <td>Mollusks</td>\n",
       "      <td>Snails &amp; slugs</td>\n",
       "    </tr>\n",
       "    <tr>\n",
       "      <th>4</th>\n",
       "      <td>Ictalurus mexicanus</td>\n",
       "      <td>Vulnerable</td>\n",
       "      <td>2019</td>\n",
       "      <td>2018</td>\n",
       "      <td>Unknown</td>\n",
       "      <td>Freshwater</td>\n",
       "      <td>Neotropical</td>\n",
       "      <td>Global</td>\n",
       "      <td>Vertebrates</td>\n",
       "      <td>Ray-finned fishes</td>\n",
       "    </tr>\n",
       "  </tbody>\n",
       "</table>\n",
       "</div>"
      ],
      "text/plain": [
       "           scientific_name      red_list_category  year_published  \\\n",
       "0        Hexanchus griseus        Near Threatened            2020   \n",
       "1      Heosemys annandalii  Critically Endangered            2021   \n",
       "2         Hubbsina turneri  Critically Endangered            2019   \n",
       "3  Hungerfordia pelewensis             Endangered            2012   \n",
       "4      Ictalurus mexicanus             Vulnerable            2019   \n",
       "\n",
       "  assessment_date population_trend                   systems       region  \\\n",
       "0            2019       Decreasing                    Marine          NaN   \n",
       "1            2018       Decreasing  Terrestial & Freshwater   Indomalayan   \n",
       "2            2018       Decreasing                Freshwater  Neotropical   \n",
       "3            2011          Unknown               Terrestrial     Oceanian   \n",
       "4            2018          Unknown                Freshwater  Neotropical   \n",
       "\n",
       "  habitat  phylum_name            class_name  \n",
       "0  Global  Vertebrates  Cartilaginous fishes  \n",
       "1  Global  Vertebrates              Reptiles  \n",
       "2  Global  Vertebrates     Ray-finned fishes  \n",
       "3  Global     Mollusks        Snails & slugs  \n",
       "4  Global  Vertebrates     Ray-finned fishes  "
      ]
     },
     "execution_count": 12,
     "metadata": {},
     "output_type": "execute_result"
    }
   ],
   "source": [
    "iucn_df.head()"
   ]
  },
  {
   "cell_type": "markdown",
   "id": "9008764b",
   "metadata": {},
   "source": [
    "### Cleaning the assessment date "
   ]
  },
  {
   "cell_type": "code",
   "execution_count": 10,
   "id": "7e6c71c8",
   "metadata": {},
   "outputs": [],
   "source": [
    "iucn_df['assessment_date'] = iucn_df['assessment_date'].astype(str).str[:4]\n",
    "#code only keeps the first 4 letters in a string and removes the rest"
   ]
  },
  {
   "cell_type": "markdown",
   "id": "d32acbed",
   "metadata": {},
   "source": [
    "### Checking for NaN's in columns, cnt"
   ]
  },
  {
   "cell_type": "code",
   "execution_count": 13,
   "id": "2ff3949a",
   "metadata": {},
   "outputs": [
    {
     "data": {
      "text/plain": [
       "0"
      ]
     },
     "execution_count": 13,
     "metadata": {},
     "output_type": "execute_result"
    }
   ],
   "source": [
    "iucn_df['assessment_date'].isna().sum()"
   ]
  },
  {
   "cell_type": "code",
   "execution_count": 14,
   "id": "c8ce6894",
   "metadata": {},
   "outputs": [
    {
     "data": {
      "text/plain": [
       "0"
      ]
     },
     "execution_count": 14,
     "metadata": {},
     "output_type": "execute_result"
    }
   ],
   "source": [
    "iucn_df['systems'].isna().sum()"
   ]
  },
  {
   "cell_type": "code",
   "execution_count": 15,
   "id": "d6311756",
   "metadata": {},
   "outputs": [
    {
     "data": {
      "text/plain": [
       "1452"
      ]
     },
     "execution_count": 15,
     "metadata": {},
     "output_type": "execute_result"
    }
   ],
   "source": [
    "iucn_df['region'].isna().sum()"
   ]
  },
  {
   "cell_type": "code",
   "execution_count": 16,
   "id": "49f78761",
   "metadata": {},
   "outputs": [
    {
     "data": {
      "text/plain": [
       "3"
      ]
     },
     "execution_count": 16,
     "metadata": {},
     "output_type": "execute_result"
    }
   ],
   "source": [
    "iucn_df['habitat'].isna().sum()"
   ]
  },
  {
   "cell_type": "code",
   "execution_count": 17,
   "id": "095db211",
   "metadata": {},
   "outputs": [
    {
     "data": {
      "text/plain": [
       "0"
      ]
     },
     "execution_count": 17,
     "metadata": {},
     "output_type": "execute_result"
    }
   ],
   "source": [
    "iucn_df['phylum_name'].isna().sum()"
   ]
  },
  {
   "cell_type": "code",
   "execution_count": 18,
   "id": "8b5e493f",
   "metadata": {
    "scrolled": true
   },
   "outputs": [
    {
     "data": {
      "text/plain": [
       "0"
      ]
     },
     "execution_count": 18,
     "metadata": {},
     "output_type": "execute_result"
    }
   ],
   "source": [
    "iucn_df['class_name'].isna().sum()"
   ]
  },
  {
   "cell_type": "code",
   "execution_count": 19,
   "id": "ec0a0a88",
   "metadata": {},
   "outputs": [],
   "source": [
    "# checking what the habitat looks like by looking at the nan values \n",
    "filtered_df = iucn_df[iucn_df['habitat'].isna()]"
   ]
  },
  {
   "cell_type": "code",
   "execution_count": 21,
   "id": "dbbcf451",
   "metadata": {
    "scrolled": false
   },
   "outputs": [
    {
     "data": {
      "text/html": [
       "<div>\n",
       "<style scoped>\n",
       "    .dataframe tbody tr th:only-of-type {\n",
       "        vertical-align: middle;\n",
       "    }\n",
       "\n",
       "    .dataframe tbody tr th {\n",
       "        vertical-align: top;\n",
       "    }\n",
       "\n",
       "    .dataframe thead th {\n",
       "        text-align: right;\n",
       "    }\n",
       "</style>\n",
       "<table border=\"1\" class=\"dataframe\">\n",
       "  <thead>\n",
       "    <tr style=\"text-align: right;\">\n",
       "      <th></th>\n",
       "      <th>scientific_name</th>\n",
       "      <th>red_list_category</th>\n",
       "      <th>year_published</th>\n",
       "      <th>assessment_date</th>\n",
       "      <th>population_trend</th>\n",
       "      <th>systems</th>\n",
       "      <th>region</th>\n",
       "      <th>habitat</th>\n",
       "      <th>phylum_name</th>\n",
       "      <th>class_name</th>\n",
       "    </tr>\n",
       "  </thead>\n",
       "  <tbody>\n",
       "    <tr>\n",
       "      <th>19328</th>\n",
       "      <td>Crocodylus niloticus</td>\n",
       "      <td>Vulnerable</td>\n",
       "      <td>2017</td>\n",
       "      <td>2017</td>\n",
       "      <td>Decreasing</td>\n",
       "      <td>Freshwater &amp; Marine</td>\n",
       "      <td>Afrotropical</td>\n",
       "      <td>NaN</td>\n",
       "      <td>Vertebrates</td>\n",
       "      <td>Reptiles</td>\n",
       "    </tr>\n",
       "    <tr>\n",
       "      <th>19700</th>\n",
       "      <td>Felis silvestris</td>\n",
       "      <td>Endangered</td>\n",
       "      <td>2018</td>\n",
       "      <td>2018</td>\n",
       "      <td>Decreasing</td>\n",
       "      <td>Terrestrial</td>\n",
       "      <td>Afrotropical|Palearctic</td>\n",
       "      <td>NaN</td>\n",
       "      <td>Vertebrates</td>\n",
       "      <td>Mammals</td>\n",
       "    </tr>\n",
       "    <tr>\n",
       "      <th>19814</th>\n",
       "      <td>Bubo milesi</td>\n",
       "      <td>Endangered</td>\n",
       "      <td>2019</td>\n",
       "      <td>2019</td>\n",
       "      <td>Unknown</td>\n",
       "      <td>Terrestrial</td>\n",
       "      <td>Afrotropical</td>\n",
       "      <td>NaN</td>\n",
       "      <td>Vertebrates</td>\n",
       "      <td>Birds</td>\n",
       "    </tr>\n",
       "  </tbody>\n",
       "</table>\n",
       "</div>"
      ],
      "text/plain": [
       "            scientific_name red_list_category  year_published assessment_date  \\\n",
       "19328  Crocodylus niloticus        Vulnerable            2017            2017   \n",
       "19700      Felis silvestris        Endangered            2018            2018   \n",
       "19814           Bubo milesi        Endangered            2019            2019   \n",
       "\n",
       "      population_trend              systems                   region habitat  \\\n",
       "19328       Decreasing  Freshwater & Marine             Afrotropical     NaN   \n",
       "19700       Decreasing          Terrestrial  Afrotropical|Palearctic     NaN   \n",
       "19814          Unknown          Terrestrial             Afrotropical     NaN   \n",
       "\n",
       "       phylum_name class_name  \n",
       "19328  Vertebrates   Reptiles  \n",
       "19700  Vertebrates    Mammals  \n",
       "19814  Vertebrates      Birds  "
      ]
     },
     "execution_count": 21,
     "metadata": {},
     "output_type": "execute_result"
    }
   ],
   "source": [
    "filtered_df"
   ]
  },
  {
   "cell_type": "code",
   "execution_count": 22,
   "id": "ea700d8a",
   "metadata": {
    "collapsed": true
   },
   "outputs": [
    {
     "data": {
      "text/plain": [
       "Global                                      16182\n",
       "Global & Europe                              1100\n",
       "Europe                                        512\n",
       "Global, Europe & Mediterranean                439\n",
       "Mediterranean                                 331\n",
       "Global, Eastern Africa & Pan-Africa           298\n",
       "Global, Central Africa & Pan-Africa           223\n",
       "Global, Pan-Africa & Western Africa           143\n",
       "Northern Africa                                71\n",
       "Global & Mediterranean                         63\n",
       "Gulf of Mexico                                 57\n",
       "Global, Pan-Africa & S. Africa FW              52\n",
       "Global, Northern Africa & Pan-Africa           51\n",
       "Western Africa                                 45\n",
       "Persian Gulf                                   44\n",
       "Eastern Africa                                 41\n",
       "Pan-Africa                                     26\n",
       "Global & Pan-Africa                            26\n",
       "Global & Caribbean                             26\n",
       "Central Africa                                 24\n",
       "Northern Africa & Pan-Africa                   21\n",
       "Global, Northeastern Africa & Pan-Africa       20\n",
       "Global, Caribbean & Gulf of Mexico             13\n",
       "Global & Arabian Sea                           12\n",
       "S. Africa FW                                    6\n",
       "Northeastern Africa                             5\n",
       "Pan-Africa & S. Africa FW                       3\n",
       "Europe & Mediterranean                          1\n",
       "Name: habitat, dtype: int64"
      ]
     },
     "execution_count": 22,
     "metadata": {},
     "output_type": "execute_result"
    }
   ],
   "source": [
    "iucn_df['habitat'].value_counts()"
   ]
  },
  {
   "cell_type": "code",
   "execution_count": 25,
   "id": "b3290d5d",
   "metadata": {},
   "outputs": [
    {
     "data": {
      "text/plain": [
       "Neotropical                                                            4751\n",
       "Palearctic                                                             3351\n",
       "Afrotropical                                                           3080\n",
       "Indomalayan                                                            2906\n",
       "Australasian                                                           1702\n",
       "                                                                       ... \n",
       "Indomalayan|Nearctic|Neotropical|Oceanian|Palearctic                      1\n",
       "Australasian|Indomalayan|Oceanian                                         1\n",
       "Afrotropical|Antarctic|Australasian|Neotropical|Oceanian|Palearctic       1\n",
       "Antarctic|Australasian                                                    1\n",
       "Afrotropical|Australasian|Indomalayan|Neotropical                         1\n",
       "Name: region, Length: 64, dtype: int64"
      ]
     },
     "execution_count": 25,
     "metadata": {},
     "output_type": "execute_result"
    }
   ],
   "source": [
    "#checking what region looks like\n",
    "iucn_df['region'].value_counts()"
   ]
  },
  {
   "cell_type": "code",
   "execution_count": 30,
   "id": "949837f0",
   "metadata": {},
   "outputs": [],
   "source": [
    "df_names = pd.read_excel('data/common_names.xlsx', index_col=0) "
   ]
  },
  {
   "cell_type": "code",
   "execution_count": 33,
   "id": "86551a2a",
   "metadata": {
    "scrolled": true
   },
   "outputs": [
    {
     "data": {
      "text/html": [
       "<div>\n",
       "<style scoped>\n",
       "    .dataframe tbody tr th:only-of-type {\n",
       "        vertical-align: middle;\n",
       "    }\n",
       "\n",
       "    .dataframe tbody tr th {\n",
       "        vertical-align: top;\n",
       "    }\n",
       "\n",
       "    .dataframe thead th {\n",
       "        text-align: right;\n",
       "    }\n",
       "</style>\n",
       "<table border=\"1\" class=\"dataframe\">\n",
       "  <thead>\n",
       "    <tr style=\"text-align: right;\">\n",
       "      <th></th>\n",
       "    </tr>\n",
       "    <tr>\n",
       "      <th>N=Aedes albopictus densovirus (isolate Boublik/1994)</th>\n",
       "    </tr>\n",
       "  </thead>\n",
       "  <tbody>\n",
       "    <tr>\n",
       "      <th>C=AalDNV</th>\n",
       "    </tr>\n",
       "    <tr>\n",
       "      <th>N=Adeno-associated virus 2</th>\n",
       "    </tr>\n",
       "    <tr>\n",
       "      <th>C=AAV-2</th>\n",
       "    </tr>\n",
       "    <tr>\n",
       "      <th>N=Adeno-associated virus 2 (isolate Srivastava/1982)</th>\n",
       "    </tr>\n",
       "    <tr>\n",
       "      <th>C=AAV-2</th>\n",
       "    </tr>\n",
       "    <tr>\n",
       "      <th>...</th>\n",
       "    </tr>\n",
       "    <tr>\n",
       "      <th>NaN</th>\n",
       "    </tr>\n",
       "    <tr>\n",
       "      <th>------------------------------------------------------</th>\n",
       "    </tr>\n",
       "    <tr>\n",
       "      <th>e UniProt Consortium, see https://www.uniprot.org/terms</th>\n",
       "    </tr>\n",
       "    <tr>\n",
       "      <th>the Creative Commons Attribution (CC BY 4.0) License</th>\n",
       "    </tr>\n",
       "    <tr>\n",
       "      <th>------------------------------------------------------</th>\n",
       "    </tr>\n",
       "  </tbody>\n",
       "</table>\n",
       "<p>58439 rows × 0 columns</p>\n",
       "</div>"
      ],
      "text/plain": [
       "Empty DataFrame\n",
       "Columns: []\n",
       "Index: [C=AalDNV, N=Adeno-associated virus 2, C=AAV-2, N=Adeno-associated virus 2 (isolate Srivastava/1982), C=AAV-2, N=Abacion magnum, C=Millipede, N=Abaeis nicippe, C=Sleepy orange butterfly, S=Eurema nicippe, N=Abax parallelepipedus, C=Ground beetle, N=Abalistes stellaris, C=Starry triggerfish, S=Balistes stellaris, N=Abbottina rivularis, C=Chinese false gudgeon, S=Gobio rivularis, N=Abdopus aculeatus, C=Algae octopus, S=Octopus aculeatus, N=Antarctic bacterium DS2-3R, N=Abelia chinensis, C=Chinese abelia, N=Abelmoschus ficulneus, C=Native rosella, N=Abelia grandiflora, C=Glossy abelia, S=Abelia chinensis x Abelia uniflora, N=Abelmoschus manihot, C=Sweet hibiscus, S=Hibiscus manihot, N=Abalone herpesvirus (isolate Abalone/Australia/Victoria/2009), C=AbHV, N=Abies alba, C=Edeltanne, S=European silver fir, N=Abies balsamea, C=Balsam fir, S=Pinus balsamea, N=Abies beshanzuensis, C=Baishan fir, N=Abies bracteata, C=Bristle-cone fir, S=Pinus bracteata, N=Abies concolor, C=White fir, S=Picea concolor, N=Abiotrophia defectiva, S=Streptococcus defectivus, N=Abies firma, C=Momi fir, N=Abies fraseri, C=Fraser fir, S=Pinus fraseri, N=Abisara fylloides, C=Judy butterfly, N=Abies grandis, C=Grand fir, S=Pinus grandis, N=Abies holophylla, C=Neddle fir, S=Manchurian fir, N=Abies homolepis, C=Nikko fir, N=Abies koreana, C=Korean fir, N=Abies lasiocarpa, C=Subalpine fir, S=Pinus lasiocarpa, N=Abies magnifica, C=Red fir, N=Abies mariesii, C=Marie's fir, N=Abies nebrodensis, C=Sicilian fir, N=Abies nordmanniana, C=Caucasian fir, S=Pinus nordmanniana, N=Abies sachalinensis, C=Sakhalin fir, S=Abies veitchii var. sachalinensis, N=Abies veitchii, C=Veitch fir, N=Ablepharus budaki, C=Budak's snake-eyed skink, S=Ablepharus kitaibellii subsp. budaki, N=Ablennes hians, C=Flat needlefish, S=Belone hians, N=Ablepharus kitaibelii, C=Snake-eyed skink, N=Australian bat lyssavirus (isolate Bat/AUS/1996), C=ABLV, N=Australian bat lyssavirus (isolate Human/AUS/1998), C=ABLV, N=Abutilon mosaic virus (isolate West India), C=AbMV, N=Acute bee paralysis virus (strain Rothamsted), C=ABPV, ...]\n",
       "\n",
       "[58439 rows x 0 columns]"
      ]
     },
     "execution_count": 33,
     "metadata": {},
     "output_type": "execute_result"
    }
   ],
   "source": [
    "df_names"
   ]
  }
 ],
 "metadata": {
  "kernelspec": {
   "display_name": "Python 3 (ipykernel)",
   "language": "python",
   "name": "python3"
  },
  "language_info": {
   "codemirror_mode": {
    "name": "ipython",
    "version": 3
   },
   "file_extension": ".py",
   "mimetype": "text/x-python",
   "name": "python",
   "nbconvert_exporter": "python",
   "pygments_lexer": "ipython3",
   "version": "3.9.13"
  }
 },
 "nbformat": 4,
 "nbformat_minor": 5
}
