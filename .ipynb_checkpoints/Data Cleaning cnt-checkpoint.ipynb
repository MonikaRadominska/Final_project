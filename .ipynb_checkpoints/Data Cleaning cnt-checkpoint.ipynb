{
 "cells": [
  {
   "cell_type": "markdown",
   "id": "b19e8893",
   "metadata": {},
   "source": [
    "### Data Cleaning continued "
   ]
  },
  {
   "cell_type": "code",
   "execution_count": 2,
   "id": "e91d2f3b",
   "metadata": {},
   "outputs": [],
   "source": [
    "# Continuing in a new notebook with saved df after Wed-Thu's work"
   ]
  },
  {
   "cell_type": "markdown",
   "id": "06b304ba",
   "metadata": {},
   "source": [
    "### Importing libraries"
   ]
  },
  {
   "cell_type": "code",
   "execution_count": 1,
   "id": "aed9bce1",
   "metadata": {},
   "outputs": [],
   "source": [
    "import pandas as pd"
   ]
  },
  {
   "cell_type": "markdown",
   "id": "84d4ceff",
   "metadata": {},
   "source": [
    "### Importing data "
   ]
  },
  {
   "cell_type": "code",
   "execution_count": 3,
   "id": "1f190ce8",
   "metadata": {},
   "outputs": [],
   "source": [
    "iucn_df = pd.read_csv('data/iucn_df_day2.csv')"
   ]
  },
  {
   "cell_type": "code",
   "execution_count": 6,
   "id": "115b3b7e",
   "metadata": {},
   "outputs": [],
   "source": [
    "iucn_df = iucn_df.drop(['Unnamed: 0'], axis = 1)\n",
    "#dropping the unnamed axis "
   ]
  },
  {
   "cell_type": "code",
   "execution_count": 7,
   "id": "ec9578c4",
   "metadata": {
    "scrolled": true
   },
   "outputs": [
    {
     "data": {
      "text/html": [
       "<div>\n",
       "<style scoped>\n",
       "    .dataframe tbody tr th:only-of-type {\n",
       "        vertical-align: middle;\n",
       "    }\n",
       "\n",
       "    .dataframe tbody tr th {\n",
       "        vertical-align: top;\n",
       "    }\n",
       "\n",
       "    .dataframe thead th {\n",
       "        text-align: right;\n",
       "    }\n",
       "</style>\n",
       "<table border=\"1\" class=\"dataframe\">\n",
       "  <thead>\n",
       "    <tr style=\"text-align: right;\">\n",
       "      <th></th>\n",
       "      <th>scientific_name</th>\n",
       "      <th>red_list_category</th>\n",
       "      <th>year_published</th>\n",
       "      <th>assessment_date</th>\n",
       "      <th>population_trend</th>\n",
       "      <th>systems</th>\n",
       "      <th>region</th>\n",
       "      <th>habitat</th>\n",
       "      <th>phylum_name</th>\n",
       "      <th>class_name</th>\n",
       "    </tr>\n",
       "  </thead>\n",
       "  <tbody>\n",
       "    <tr>\n",
       "      <th>0</th>\n",
       "      <td>Hexanchus griseus</td>\n",
       "      <td>Near Threatened</td>\n",
       "      <td>2020</td>\n",
       "      <td>2019-11-21 00:00:00 UTC</td>\n",
       "      <td>Decreasing</td>\n",
       "      <td>Marine</td>\n",
       "      <td>NaN</td>\n",
       "      <td>Global</td>\n",
       "      <td>Vertebrates</td>\n",
       "      <td>Cartilaginous fishes</td>\n",
       "    </tr>\n",
       "    <tr>\n",
       "      <th>1</th>\n",
       "      <td>Heosemys annandalii</td>\n",
       "      <td>Critically Endangered</td>\n",
       "      <td>2021</td>\n",
       "      <td>2018-03-13 00:00:00 UTC</td>\n",
       "      <td>Decreasing</td>\n",
       "      <td>Terrestial &amp; Freshwater</td>\n",
       "      <td>Indomalayan</td>\n",
       "      <td>Global</td>\n",
       "      <td>Vertebrates</td>\n",
       "      <td>Reptiles</td>\n",
       "    </tr>\n",
       "    <tr>\n",
       "      <th>2</th>\n",
       "      <td>Hubbsina turneri</td>\n",
       "      <td>Critically Endangered</td>\n",
       "      <td>2019</td>\n",
       "      <td>2018-04-17 00:00:00 UTC</td>\n",
       "      <td>Decreasing</td>\n",
       "      <td>Freshwater</td>\n",
       "      <td>Neotropical</td>\n",
       "      <td>Global</td>\n",
       "      <td>Vertebrates</td>\n",
       "      <td>Ray-finned fishes</td>\n",
       "    </tr>\n",
       "    <tr>\n",
       "      <th>3</th>\n",
       "      <td>Hungerfordia pelewensis</td>\n",
       "      <td>Endangered</td>\n",
       "      <td>2012</td>\n",
       "      <td>2011-08-22 00:00:00 UTC</td>\n",
       "      <td>Unknown</td>\n",
       "      <td>Terrestrial</td>\n",
       "      <td>Oceanian</td>\n",
       "      <td>Global</td>\n",
       "      <td>Mollusks</td>\n",
       "      <td>Snails &amp; slugs</td>\n",
       "    </tr>\n",
       "    <tr>\n",
       "      <th>4</th>\n",
       "      <td>Ictalurus mexicanus</td>\n",
       "      <td>Vulnerable</td>\n",
       "      <td>2019</td>\n",
       "      <td>2018-12-06 00:00:00 UTC</td>\n",
       "      <td>Unknown</td>\n",
       "      <td>Freshwater</td>\n",
       "      <td>Neotropical</td>\n",
       "      <td>Global</td>\n",
       "      <td>Vertebrates</td>\n",
       "      <td>Ray-finned fishes</td>\n",
       "    </tr>\n",
       "  </tbody>\n",
       "</table>\n",
       "</div>"
      ],
      "text/plain": [
       "           scientific_name      red_list_category  year_published  \\\n",
       "0        Hexanchus griseus        Near Threatened            2020   \n",
       "1      Heosemys annandalii  Critically Endangered            2021   \n",
       "2         Hubbsina turneri  Critically Endangered            2019   \n",
       "3  Hungerfordia pelewensis             Endangered            2012   \n",
       "4      Ictalurus mexicanus             Vulnerable            2019   \n",
       "\n",
       "           assessment_date population_trend                   systems  \\\n",
       "0  2019-11-21 00:00:00 UTC       Decreasing                    Marine   \n",
       "1  2018-03-13 00:00:00 UTC       Decreasing  Terrestial & Freshwater    \n",
       "2  2018-04-17 00:00:00 UTC       Decreasing                Freshwater   \n",
       "3  2011-08-22 00:00:00 UTC          Unknown               Terrestrial   \n",
       "4  2018-12-06 00:00:00 UTC          Unknown                Freshwater   \n",
       "\n",
       "        region habitat  phylum_name            class_name  \n",
       "0          NaN  Global  Vertebrates  Cartilaginous fishes  \n",
       "1  Indomalayan  Global  Vertebrates              Reptiles  \n",
       "2  Neotropical  Global  Vertebrates     Ray-finned fishes  \n",
       "3     Oceanian  Global     Mollusks        Snails & slugs  \n",
       "4  Neotropical  Global  Vertebrates     Ray-finned fishes  "
      ]
     },
     "execution_count": 7,
     "metadata": {},
     "output_type": "execute_result"
    }
   ],
   "source": [
    "iucn_df.head()"
   ]
  },
  {
   "cell_type": "markdown",
   "id": "68c21931",
   "metadata": {},
   "source": [
    "### Cleaning the assessment date "
   ]
  },
  {
   "cell_type": "code",
   "execution_count": null,
   "id": "28236546",
   "metadata": {},
   "outputs": [],
   "source": []
  }
 ],
 "metadata": {
  "kernelspec": {
   "display_name": "Python 3 (ipykernel)",
   "language": "python",
   "name": "python3"
  },
  "language_info": {
   "codemirror_mode": {
    "name": "ipython",
    "version": 3
   },
   "file_extension": ".py",
   "mimetype": "text/x-python",
   "name": "python",
   "nbconvert_exporter": "python",
   "pygments_lexer": "ipython3",
   "version": "3.9.13"
  }
 },
 "nbformat": 4,
 "nbformat_minor": 5
}
